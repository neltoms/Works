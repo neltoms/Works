{
 "cells": [
  {
   "cell_type": "code",
   "execution_count": null,
   "metadata": {
    "collapsed": true
   },
   "outputs": [],
   "source": [
    "import numpy as np\n",
    "import pandas as pd\n",
    "import matplotlib.pyplot as plt \n",
    "from matplotlib.colors import ListedColormap"
   ]
  },
  {
   "cell_type": "code",
   "execution_count": null,
   "metadata": {
    "collapsed": true
   },
   "outputs": [],
   "source": [
    "class Perceptron01(object):\n",
    "    \"\"\"\n",
    "    Perceptron classifier (target values in {0,1})\n",
    "    \n",
    "    Code from \"Python Machine Learning,\" Sebastian Raschka, Packt Publishing, 2015, with modifications.\n",
    "    \n",
    "    Parameters\n",
    "    ------------\n",
    "    eta : float\n",
    "        Learning rate (between 0.0 and 1.0)\n",
    "    n_iter : int\n",
    "        Number of passes over the training set\n",
    "        \n",
    "    Attributes    \n",
    "    ------------\n",
    "    w_ : id-array\n",
    "        Weights after fitting\n",
    "    errors: list\n",
    "        Number of misclassifications in each epoch        \n",
    "    \"\"\"    \n",
    "    def __init__(self, eta=0.2, n_iter=10):\n",
    "        self.eta = eta\n",
    "        self.n_iter = n_iter\n",
    "    def fit(self, X, y):\n",
    "        \"\"\"\n",
    "        Fit training data\n",
    "        \n",
    "        Paramters\n",
    "        ------------\n",
    "        X: {array-like}, shape = [n_samples, n_features]\n",
    "            Training vectors, where n_samples is the number of samples and\n",
    "            n_features is the number of features.\n",
    "        y : array-like, shape = [n_samples]\n",
    "            Target values\n",
    "            \n",
    "        Returns\n",
    "        ------------\n",
    "        self : object\n",
    "        \n",
    "        \"\"\"\n",
    "        self.w_ = np.zeros(1 + X.shape[1])\n",
    "        self.errors_ = []        \n",
    "        for i in range(self.n_iter):\n",
    "            errors = 0\n",
    "            for xi, target in zip(X,y):\n",
    "                update = self.eta * (target - self.predict(xi))\n",
    "                self.w_[1:] += update*xi\n",
    "                self.w_ [0] += update\n",
    "                errors += int(update != 0.0)\n",
    "            self.errors_.append(errors)\n",
    "            i += 1\n",
    "        return self\n",
    "    \n",
    "    def net_input(self, X):\n",
    "        \"\"\" Calculate net input \"\"\"\n",
    "        return np.dot(X, self.w_[1:]) + self.w_[0]\n",
    "    \n",
    "    def predict(self, X):\n",
    "        \"\"\" Return class label after each setp \"\"\"\n",
    "        return np.where(self.net_input(X) >= 0.0, 1, 0)"
   ]
  },
  {
   "cell_type": "code",
   "execution_count": null,
   "metadata": {
    "collapsed": true
   },
   "outputs": [],
   "source": [
    "# NOT\n",
    "\n",
    "AOX =([0,1],[1,0])\n",
    "AO = np.array(AOX)\n",
    "\n",
    "# AO is m x n array where m is the number of samples, and n-1 is the number of features of each observation.\n",
    "# Row i contains the ith sample.\n",
    "# Column j contains the values of feature j if j < n and the values of the classification/value of each sample if j = n.\n",
    "\n",
    "X = np.array(AO[:,0])\n",
    "X.shape = (2,1)\n",
    "y = np.array(AO[:,1])\n",
    "y.shape = (2,1)\n"
   ]
  },
  {
   "cell_type": "code",
   "execution_count": null,
   "metadata": {
    "collapsed": true,
    "scrolled": true
   },
   "outputs": [],
   "source": [
    "# NOT\n",
    "\n",
    "plt.close('all')\n",
    "plt.scatter(x = X[y == 1], y = y[y == 1], color='red', marker='x', label='1')\n",
    "plt.scatter(x = X[y == 0], y = y[y == 0], color='blue', marker='x', label='0')\n",
    "plt.xlabel('A')\n",
    "plt.ylabel('Output')\n",
    "plt.title('NOT', fontsize='medium')\n",
    "plt.legend(loc='upper center', fontsize='medium')\n",
    "plt.show()"
   ]
  },
  {
   "cell_type": "code",
   "execution_count": null,
   "metadata": {
    "collapsed": true,
    "scrolled": true
   },
   "outputs": [],
   "source": [
    "# NOT\n",
    "\n",
    "ppn = Perceptron01(eta=0.2, n_iter=10)\n",
    "ppn.fit(X,y)\n",
    "plt.close('all')\n",
    "plt.plot(range(0, len(ppn.errors_) ), ppn.errors_, marker='o')\n",
    "plt.ylim([0, max(ppn.errors_) + 1])\n",
    "plt.xlabel('Epoch')\n",
    "plt.ylabel('Number of misclassifications')\n",
    "plt.title('NOT - Perceptron', fontsize ='medium')\n",
    "plt.show()\n"
   ]
  },
  {
   "cell_type": "code",
   "execution_count": null,
   "metadata": {
    "collapsed": true
   },
   "outputs": [],
   "source": [
    "# NAND\n",
    "\n",
    "ABOX =([0,0,1],[0,1,1],[1,0,1],[1,1,0])\n",
    "ABO = np.array(ABOX)\n",
    "\n",
    "# ABO is m x n array where m is t,\n",
    "# Column j contains the values of feature j if j < n and the values of the classification/value of each sample if j = n.\n",
    "\n",
    "X = np.array(ABO[:,0:2])\n",
    "y = np.array(ABO[:,2])\n"
   ]
  },
  {
   "cell_type": "code",
   "execution_count": null,
   "metadata": {
    "collapsed": true
   },
   "outputs": [],
   "source": [
    "# NAND\n",
    "\n",
    "plt.close('all')\n",
    "plt.scatter(x = X[y == 1, 0], y = X[y == 1, 1], color='red', marker='x', label='1')\n",
    "plt.scatter(x = X[y == 0, 0], y = X[y == 0, 1], color='blue', marker='x', label='0')\n",
    "plt.xlabel('A')\n",
    "plt.ylabel('B')\n",
    "plt.title('NAND', fontsize='medium')\n",
    "plt.legend(loc='upper center', fontsize='medium')\n",
    "plt.show()"
   ]
  },
  {
   "cell_type": "code",
   "execution_count": null,
   "metadata": {
    "collapsed": true
   },
   "outputs": [],
   "source": [
    "# NAND\n",
    "\n",
    "ppn = Perceptron01(eta=0.2, n_iter=10)\n",
    "ppn.fit(X,y)\n",
    "plt.close('all')\n",
    "plt.plot(range(0, len(ppn.errors_)), ppn.errors_, marker='o')\n",
    "plt.ylim([0, max(ppn.errors_) + 1])\n",
    "plt.xlabel('Epoch')\n",
    "plt.ylabel('Number of misclassifications')\n",
    "plt.title('NAND - Perceptron', fontsize='medium')\n",
    "plt.show()\n"
   ]
  },
  {
   "cell_type": "code",
   "execution_count": null,
   "metadata": {
    "collapsed": true
   },
   "outputs": [],
   "source": [
    "# XOR\n",
    "\n",
    "ABOX =([0,0,0],[0,1,1],[1,0,1],[1,1,0])\n",
    "ABO = np.array(ABOX)\n",
    "\n",
    "# ABO is m x n array where m is t,\n",
    "# Column j contains the values of feature j if j < n and the values of the classification/value of each sample if j = n.\n",
    "\n",
    "X = np.array(ABO[:,0:2])\n",
    "y = np.array(ABO[:,2])\n"
   ]
  },
  {
   "cell_type": "code",
   "execution_count": null,
   "metadata": {
    "collapsed": true
   },
   "outputs": [],
   "source": [
    "# XOR\n",
    "\n",
    "plt.close('all')\n",
    "plt.scatter(x = X[y == 1, 0], y = X[y == 1, 1], color='red', marker='x', label='1')\n",
    "plt.scatter(x = X[y == 0, 0], y = X[y == 0, 1], color='blue', marker='x', label='0')\n",
    "plt.xlabel('A')\n",
    "plt.ylabel('B')\n",
    "plt.title('XOR', fontsize='medium')\n",
    "plt.legend(loc='upper center', fontsize='medium')\n",
    "plt.show()"
   ]
  },
  {
   "cell_type": "code",
   "execution_count": null,
   "metadata": {
    "collapsed": true
   },
   "outputs": [],
   "source": [
    "# XOR\n",
    "\n",
    "ppn = Perceptron01(eta=0.2, n_iter=10)\n",
    "ppn.fit(X,y)\n",
    "plt.close('all')\n",
    "plt.plot(range(0, len(ppn.errors_)), ppn.errors_, marker='o')\n",
    "plt.ylim([0, max(ppn.errors_) + 1])\n",
    "plt.xlabel('Epoch')\n",
    "plt.ylabel('Number of misclassifications')\n",
    "plt.title('XOR - Perceptron', fontsize='medium')\n",
    "plt.show()\n"
   ]
  },
  {
   "cell_type": "code",
   "execution_count": null,
   "metadata": {
    "collapsed": true
   },
   "outputs": [],
   "source": [
    "# Iris Dataset"
   ]
  },
  {
   "cell_type": "code",
   "execution_count": null,
   "metadata": {
    "collapsed": true
   },
   "outputs": [],
   "source": [
    "df = pd.read_csv('https://archive.ics.uci.edu/ml/machine-learning-databases/iris/iris.data', header = None)\n",
    "\n",
    "df.tail()\n",
    "\n",
    "IA = df.iloc[:,:].values\n",
    "for i_ in range(0,len(df),10):\n",
    "    print(i_, IA[i_,:])\n"
   ]
  },
  {
   "cell_type": "code",
   "execution_count": null,
   "metadata": {
    "collapsed": true
   },
   "outputs": [],
   "source": [
    "# get Iris classifications\n",
    "\n",
    "IC = np.unique(IA[:,4])\n",
    "pltC = ('red', 'blue', 'green')\n",
    "pltM = ('o', 'x', '*')\n",
    "for i in range(0,3):\n",
    "    print(IC[i], pltC[i], pltM[i])\n",
    "    "
   ]
  },
  {
   "cell_type": "code",
   "execution_count": null,
   "metadata": {
    "collapsed": true
   },
   "outputs": [],
   "source": []
  },
  {
   "cell_type": "code",
   "execution_count": null,
   "metadata": {
    "collapsed": true
   },
   "outputs": [],
   "source": [
    "# Setup Iris feature lablels\n",
    "\n",
    "IrisF=(\"sepal length in cm\", \"sepal width in cm\", \"petal length in cm\", \"petal width in cm\")\n",
    "for i in range(0,4):\n",
    "    print(IrisF[i])\n"
   ]
  },
  {
   "cell_type": "code",
   "execution_count": null,
   "metadata": {
    "collapsed": true
   },
   "outputs": [],
   "source": [
    "# plot classifications of all pairs of features \n",
    "\n",
    "plt.close('all')\n",
    "fig, ax = plt.subplots(nrows=3, ncols=2, figsize= (8,12), sharex=True, sharey=True)\n",
    "\n",
    "Cl = IA[:,4]\n",
    "i = 0\n",
    "k = 0\n",
    "k1 = 0\n",
    "k2 = 0\n",
    "while i < 4:\n",
    "    yF = IrisF[i]\n",
    "    j = 0\n",
    "    while j < i:\n",
    "        k1 = np.int(k/2)\n",
    "        k2 = np.mod(k,2)\n",
    "        xF = IrisF[j]\n",
    "        ax[k1,k2].scatter(x=IA[Cl == IC[0], j], y=IA[Cl == IC[0], i], color=pltC[0], marker=pltM[0], label=IC[0])\n",
    "        ax[k1,k2].scatter(x=IA[Cl == IC[1], j], y=IA[Cl == IC[1], i], color=pltC[1], marker=pltM[1], label=IC[1])\n",
    "        ax[k1,k2].scatter(x=IA[Cl == IC[2], j], y=IA[Cl == IC[2], i], color=pltC[2], marker=pltM[2], label=IC[2])\n",
    "        ax[k1,k2].set(aspect='equal')\n",
    "        ax[k1,k2].set_xlim([0,9])\n",
    "        ax[k1,k2].set_ylim([0,9])\n",
    "        ax[k1,k2].set_xlabel(xF)\n",
    "        ax[k1,k2].set_ylabel(yF)\n",
    "        ax[k1,k2].legend(loc='upper left', fontsize='x-small')\n",
    "        j += 1\n",
    "        k += 1\n",
    "    i += 1\n",
    "plt.show()    "
   ]
  },
  {
   "cell_type": "code",
   "execution_count": null,
   "metadata": {
    "collapsed": true
   },
   "outputs": [],
   "source": [
    "# focus on classification of \"setosa\" and \"versicolor\", class indexes 0 and 1\n",
    "cdx = np.array([0,1])   \n",
    "# focus on the features \"sepal length\" and \"petal length\", feature indexes 0 and 2\n",
    "fdx = np.array([0,2])"
   ]
  },
  {
   "cell_type": "code",
   "execution_count": null,
   "metadata": {
    "collapsed": true
   },
   "outputs": [],
   "source": [
    "i = 0\n",
    "numCl = 0\n",
    "for i in range(0 , len(Cl)):\n",
    "    if Cl[i] == IC[cdx[0]]:\n",
    "        numCl += 1\n",
    "    if Cl[i] == IC[cdx[1]]:\n",
    "        numCl += 1    \n",
    "    i += 1  \n",
    "    \n",
    "NC = np.zeros((numCl))\n",
    "NF = np.zeros((numCl, 2))\n",
    "\n",
    "i = 0\n",
    "j = 0\n",
    "for i in range(0 , len(Cl)):\n",
    "    if Cl[i] == IC[cdx[0]]:\n",
    "        \n",
    "        NC[j] = 0\n",
    "        NF[j,0] = IA[i,fdx[0]]\n",
    "        NF[j,1] = IA[i,fdx[1]]\n",
    "        j += 1\n",
    "    if Cl[i] == IC[cdx[1]]:      \n",
    "        NC[j] = 1\n",
    "        NF[j,0] = IA[i,fdx[0]]\n",
    "        NF[j,1] = IA[i,fdx[1]]\n",
    "        j += 1\n",
    "    i += 1\n",
    "\n",
    "plt.close('all')\n",
    "plt.scatter(x = NF[NC == 0, 0], y = NF[NC == 0, 1], color=pltC[cdx[0]], marker=pltM[cdx[0]], label=IC[cdx[0]])\n",
    "plt.scatter(x = NF[NC == 1, 0], y = NF[NC == 1, 1], color=pltC[cdx[1]], marker=pltM[cdx[1]], label=IC[cdx[1]])\n",
    "plt.xlabel(IrisF[fdx[0]])\n",
    "plt.ylabel(IrisF[fdx[1]])\n",
    "plt.legend(loc='lower right', fontsize='medium')\n",
    "plt.show()"
   ]
  },
  {
   "cell_type": "code",
   "execution_count": null,
   "metadata": {
    "collapsed": true
   },
   "outputs": [],
   "source": [
    "ppn = Perceptron01(eta=0.2, n_iter=10)\n",
    "ppn.fit(NF,NC)\n",
    "plt.close('all')\n",
    "plt.plot(range(0, len(ppn.errors_)), ppn.errors_, marker='o')\n",
    "plt.ylim([0, max(ppn.errors_) + 1])\n",
    "plt.xlabel('Epoch')\n",
    "plt.ylabel('Number of misclassifications')\n",
    "plt.title('Perceptron', fontsize='medium')\n",
    "plt.show()"
   ]
  },
  {
   "cell_type": "code",
   "execution_count": null,
   "metadata": {
    "collapsed": true,
    "scrolled": true
   },
   "outputs": [],
   "source": [
    "plt.close('all')\n",
    "def plot_decision_regions(NF,NC, classifier, resolution=0.02):\n",
    "    colors = ('red', 'blue')\n",
    "    cmap = ListedColormap(colors[:len(np.unique(NC))])\n",
    "    x1_min, x1_max = NF[:, 0].min() - 1, NF[:, 0].max() + 1\n",
    "    x2_min, x2_max = NF[:, 1].min() - 1, NF[:, 1].max() + 1\n",
    "    xx1, xx2 = np.meshgrid(np.arange(x1_min, x1_max, resolution), np.arange(x2_min, x2_max, resolution))\n",
    "    Z = classifier.predict(np.array([xx1.ravel(), xx2.ravel()]).T)\n",
    "    Z = Z.reshape(xx1.shape)\n",
    "    plt.contourf(xx1, xx2, Z, alpha=0.2, cmap=cmap)\n",
    "    plt.xlim(xx1.min(), xx1.max())\n",
    "    plt.ylim(xx2.min(), xx2.max()) \n",
    "    for idx, cls in enumerate(np.unique(NC)):\n",
    "        plt.scatter(x=NF[NC == cls, 0], y=NF[NC == cls, 1], alpha=0.8, color=pltC[cdx[idx]], marker=pltM[cdx[idx]], label=IC[cdx[idx]])\n",
    "plot_decision_regions(NF, NC, classifier=ppn)\n",
    "plt.xlabel(IrisF[fdx[0]])\n",
    "plt.ylabel(IrisF[fdx[1]])\n",
    "plt.legend(loc='upper left', fontsize='medium')\n",
    "plt.show()\n"
   ]
  },
  {
   "cell_type": "code",
   "execution_count": null,
   "metadata": {
    "collapsed": true
   },
   "outputs": [],
   "source": [
    "# focus on classification of \"versicolor\" and \"verginica\", class indexes 1 and 2\n",
    "cdx = np.array([1,2])   \n",
    "# focus on the features \"sepal length\" and \"petal length\", feature indexes 0 and 2\n",
    "fdx = np.array([0,2])"
   ]
  },
  {
   "cell_type": "code",
   "execution_count": null,
   "metadata": {
    "collapsed": true
   },
   "outputs": [],
   "source": [
    "i = 0\n",
    "numCl = 0\n",
    "for i in range(0 , len(Cl)):\n",
    "    if Cl[i] == IC[cdx[0]]:\n",
    "        numCl += 1\n",
    "    if Cl[i] == IC[cdx[1]]:\n",
    "        numCl += 1    \n",
    "    i += 1  \n",
    "    \n",
    "NC = np.zeros((numCl))\n",
    "NF = np.zeros((numCl, 2))\n",
    "\n",
    "i = 0\n",
    "j = 0\n",
    "for i in range(0 , len(Cl)):\n",
    "    if Cl[i] == IC[cdx[0]]:\n",
    "        \n",
    "        NC[j] = 0\n",
    "        NF[j,0] = IA[i,fdx[0]]\n",
    "        NF[j,1] = IA[i,fdx[1]]\n",
    "        j += 1\n",
    "    if Cl[i] == IC[cdx[1]]:      \n",
    "        NC[j] = 1\n",
    "        NF[j,0] = IA[i,fdx[0]]\n",
    "        NF[j,1] = IA[i,fdx[1]]\n",
    "        j += 1\n",
    "    i += 1\n",
    "\n",
    "plt.close('all')\n",
    "plt.scatter(x = NF[NC == 0, 0], y = NF[NC == 0, 1], color=pltC[cdx[0]], marker=pltM[cdx[0]], label=IC[cdx[0]])\n",
    "plt.scatter(x = NF[NC == 1, 0], y = NF[NC == 1, 1], color=pltC[cdx[1]], marker=pltM[cdx[1]], label=IC[cdx[1]])\n",
    "plt.xlabel(IrisF[fdx[0]])\n",
    "plt.ylabel(IrisF[fdx[1]])\n",
    "plt.legend(loc='lower right', fontsize='medium')\n",
    "plt.show()"
   ]
  },
  {
   "cell_type": "code",
   "execution_count": null,
   "metadata": {
    "collapsed": true
   },
   "outputs": [],
   "source": [
    "ppn = Perceptron01(eta=0.2, n_iter=20)\n",
    "ppn.fit(NF,NC)\n",
    "plt.close('all')\n",
    "plt.plot(range(0, len(ppn.errors_)), ppn.errors_, marker='o')\n",
    "plt.ylim([0, max(ppn.errors_) + 1])\n",
    "plt.title('Perceptron', fontsize='medium')\n",
    "plt.xlabel('Epoch')\n",
    "plt.ylabel('Number of misclassifications')\n",
    "plt.show()"
   ]
  },
  {
   "cell_type": "code",
   "execution_count": null,
   "metadata": {
    "collapsed": true,
    "scrolled": true
   },
   "outputs": [],
   "source": [
    "plt.close('all')\n",
    "def plot_decision_regions(NF,NC, classifier, resolution=0.02):\n",
    "    colors = ('blue','green')\n",
    "    cmap = ListedColormap(colors[:len(np.unique(NC))])\n",
    "    x1_min, x1_max = NF[:, 0].min() - 1, NF[:, 0].max() + 1\n",
    "    x2_min, x2_max = NF[:, 1].min() - 1, NF[:, 1].max() + 1\n",
    "    xx1, xx2 = np.meshgrid(np.arange(x1_min, x1_max, resolution), np.arange(x2_min, x2_max, resolution))\n",
    "    Z = classifier.predict(np.array([xx1.ravel(), xx2.ravel()]).T)\n",
    "    Z = Z.reshape(xx1.shape)\n",
    "    plt.contourf(xx1, xx2, Z, alpha=0.2, cmap=cmap)\n",
    "    plt.xlim(xx1.min(), xx1.max())\n",
    "    plt.ylim(xx2.min(), xx2.max()) \n",
    "    for idx, cls in enumerate(np.unique(NC)):\n",
    "        plt.scatter(x=NF[NC == cls, 0], y=NF[NC == cls, 1], alpha=0.8, color=pltC[cdx[idx]], marker=pltM[cdx[idx]], label=IC[cdx[idx]])\n",
    "plot_decision_regions(NF, NC, classifier=ppn)\n",
    "plt.xlabel(IrisF[fdx[0]])\n",
    "plt.ylabel(IrisF[fdx[1]])\n",
    "plt.legend(loc='upper left', fontsize='medium')\n",
    "plt.show()\n"
   ]
  },
  {
   "cell_type": "code",
   "execution_count": null,
   "metadata": {
    "collapsed": true
   },
   "outputs": [],
   "source": []
  }
 ],
 "metadata": {
  "anaconda-cloud": {},
  "kernelspec": {
   "display_name": "Python 3",
   "language": "python",
   "name": "python3"
  },
  "language_info": {
   "codemirror_mode": {
    "name": "ipython",
    "version": 3
   },
   "file_extension": ".py",
   "mimetype": "text/x-python",
   "name": "python",
   "nbconvert_exporter": "python",
   "pygments_lexer": "ipython3",
   "version": "3.6.0"
  }
 },
 "nbformat": 4,
 "nbformat_minor": 1
}
