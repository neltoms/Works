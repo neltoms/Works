{
 "cells": [
  {
   "cell_type": "code",
   "execution_count": 56,
   "metadata": {
    "collapsed": true
   },
   "outputs": [],
   "source": [
    "from IPython.display import Image\n",
    "%matplotlib inline\n",
    "import matplotlib.pyplot as plt\n",
    "from matplotlib.ticker import MaxNLocator \n",
    "import numpy as np\n",
    "import graphviz\n",
    "from graphviz import Digraph\n",
    "from sklearn.model_selection import train_test_split\n",
    "from sklearn.tree import DecisionTreeClassifier\n",
    "from sklearn.tree import export_graphviz"
   ]
  },
  {
   "cell_type": "code",
   "execution_count": 57,
   "metadata": {
    "collapsed": true
   },
   "outputs": [],
   "source": [
    "# learn a line segment"
   ]
  },
  {
   "cell_type": "code",
   "execution_count": 58,
   "metadata": {},
   "outputs": [],
   "source": [
    "# generate data for a line segment [0.5, 1.5) (y=1) and \n",
    "# for points outside the line segent [1.5, 2.0] (y=0)\n",
    "\n",
    "from sklearn import datasets\n",
    "\n",
    "iris = datasets.load_iris()\n",
    "\n",
    "X = iris.data[:, [0,1,2,3]]\n",
    "y = iris.target\n"
   ]
  },
  {
   "cell_type": "code",
   "execution_count": 59,
   "metadata": {},
   "outputs": [
    {
     "data": {
      "image/png": "[encoded data removed]",
      "text/plain": [
       "<matplotlib.figure.Figure at 0x1a0fa64c50>"
      ]
     },
     "metadata": {},
     "output_type": "display_data"
    }
   ],
   "source": [
    "# plot data points\n",
    "plt.close('all')\n",
    "plt.figure(figsize=(8, 1))\n",
    "plt.title('Learning a Line Segment', fontsize='medium')\n",
    "plt.xlabel('x')\n",
    "plt.ylabel('')\n",
    "plt.scatter(x = X1[y1==0, 0], y=y0[y1==0], color='red', label='0', s=5)\n",
    "plt.scatter(x = X1[y1==1, 0], y=y0[y1==1], color='green', label='1', s=5)\n",
    "plt.axis(range=1, aspect=1)\n",
    "plt.xlim(-0.1,2.1)\n",
    "plt.ylim(-0.1,0.1)\n",
    "plt.show()"
   ]
  },
  {
   "cell_type": "code",
   "execution_count": 60,
   "metadata": {
    "collapsed": true,
    "scrolled": false
   },
   "outputs": [],
   "source": [
    "# split data into 50% training and 50% test data\n",
    "\n",
    "X_train, X_test, y_train, y_test = train_test_split(\n",
    "         X, y, test_size=0.30, random_state=0)\n",
    "\n",
    "if (npts==20):\n",
    "    print(np.sort(X_train.transpose()))"
   ]
  },
  {
   "cell_type": "code",
   "execution_count": 82,
   "metadata": {},
   "outputs": [
    {
     "name": "stdout",
     "output_type": "stream",
     "text": [
      "Max Depth, Training, Test\n",
      "1          0.305       0.4\n",
      "2          0.0381       0.0889\n",
      "3          0.019       0.0222\n",
      "4          0.0       0.0222\n",
      "5          0.0       0.0222\n",
      "6          0.0       0.0222\n",
      "7          0.0       0.0222\n",
      "8          0.0       0.0222\n",
      "9          0.0       0.0222\n",
      "10          0.0       0.0222\n"
     ]
    }
   ],
   "source": [
    "# Fit for various depth trees\n",
    "s = ' '\n",
    "MaxDepth = 10\n",
    "Errors = np.zeros((MaxDepth,2))\n",
    "\n",
    "print ('Max Depth, Training, Test')\n",
    "\n",
    "for i in range(0,MaxDepth):\n",
    "    tree = DecisionTreeClassifier(criterion='entropy', max_depth=i+1, random_state=0)\n",
    "    tree.fit(X_train, y_train)\n",
    "\n",
    "    X_combined = np.vstack((X_train, X_test))\n",
    "    y_combined = np.hstack((y_train, y_test))\n",
    "\n",
    "    # optional outputs\n",
    "    z = tree.apply(X_combined)\n",
    "    #print(z)\n",
    "    dp = tree.decision_path(X_combined)\n",
    "    #print (dp)\n",
    "    \n",
    "    Errors[i,0] = 1 - tree.score(X_train,y_train)\n",
    "    Errors[i,1] = 1 - tree.score(X_test,y_test)\n",
    "    print(i+1, 8*s, \"{0:.3}\".format(Errors[i,0]), 5*s, \"{0:.3}\".format(Errors[i,1]))\n"
   ]
  },
  {
   "cell_type": "code",
   "execution_count": 81,
   "metadata": {},
   "outputs": [
    {
     "data": {
      "image/svg+xml": [
       "<?xml version=\"1.0\" encoding=\"UTF-8\" standalone=\"no\"?>\n",
       "<!DOCTYPE svg PUBLIC \"-//W3C//DTD SVG 1.1//EN\"\n",
       " \"http://www.w3.org/Graphics/SVG/1.1/DTD/svg11.dtd\">\n",
       "<!-- Generated by graphviz version 2.38.0 (20140413.2041)\n",
       " -->\n",
       "<!-- Title: Tree Pages: 1 -->\n",
       "<svg width=\"598pt\" height=\"458pt\"\n",
       " viewBox=\"0.00 0.00 597.54 458.00\" xmlns=\"http://www.w3.org/2000/svg\" xmlns:xlink=\"http://www.w3.org/1999/xlink\">\n",
       "<g id=\"graph0\" class=\"graph\" transform=\"scale(1 1) rotate(0) translate(4 454)\">\n",
       "<title>Tree</title>\n",
       "<polygon fill=\"white\" stroke=\"none\" points=\"-4,4 -4,-454 593.537,-454 593.537,4 -4,4\"/>\n",
       "<!-- 0 -->\n",
       "<g id=\"node1\" class=\"node\"><title>0</title>\n",
       "<polygon fill=\"none\" stroke=\"black\" points=\"293.688,-450 134.85,-450 134.85,-386 293.688,-386 293.688,-450\"/>\n",
       "<text text-anchor=\"middle\" x=\"214.269\" y=\"-434.8\" font-family=\"Times,serif\" font-size=\"14.00\">petal length [cm] &lt;= 0.75</text>\n",
       "<text text-anchor=\"middle\" x=\"214.269\" y=\"-420.8\" font-family=\"Times,serif\" font-size=\"14.00\">entropy = 1.58</text>\n",
       "<text text-anchor=\"middle\" x=\"214.269\" y=\"-406.8\" font-family=\"Times,serif\" font-size=\"14.00\">samples = 105</text>\n",
       "<text text-anchor=\"middle\" x=\"214.269\" y=\"-392.8\" font-family=\"Times,serif\" font-size=\"14.00\">value = [34, 32, 39]</text>\n",
       "</g>\n",
       "<!-- 1 -->\n",
       "<g id=\"node2\" class=\"node\"><title>1</title>\n",
       "<polygon fill=\"none\" stroke=\"black\" points=\"193.307,-343 81.2305,-343 81.2305,-293 193.307,-293 193.307,-343\"/>\n",
       "<text text-anchor=\"middle\" x=\"137.269\" y=\"-327.8\" font-family=\"Times,serif\" font-size=\"14.00\">entropy = 0.0</text>\n",
       "<text text-anchor=\"middle\" x=\"137.269\" y=\"-313.8\" font-family=\"Times,serif\" font-size=\"14.00\">samples = 34</text>\n",
       "<text text-anchor=\"middle\" x=\"137.269\" y=\"-299.8\" font-family=\"Times,serif\" font-size=\"14.00\">value = [34, 0, 0]</text>\n",
       "</g>\n",
       "<!-- 0&#45;&gt;1 -->\n",
       "<g id=\"edge1\" class=\"edge\"><title>0&#45;&gt;1</title>\n",
       "<path fill=\"none\" stroke=\"black\" d=\"M189.905,-385.992C181.184,-374.892 171.338,-362.361 162.541,-351.165\"/>\n",
       "<polygon fill=\"black\" stroke=\"black\" points=\"165.282,-348.988 156.352,-343.288 159.778,-353.313 165.282,-348.988\"/>\n",
       "<text text-anchor=\"middle\" x=\"153.373\" y=\"-363.91\" font-family=\"Times,serif\" font-size=\"14.00\">True</text>\n",
       "</g>\n",
       "<!-- 2 -->\n",
       "<g id=\"node3\" class=\"node\"><title>2</title>\n",
       "<polygon fill=\"none\" stroke=\"black\" points=\"370.688,-350 211.85,-350 211.85,-286 370.688,-286 370.688,-350\"/>\n",
       "<text text-anchor=\"middle\" x=\"291.269\" y=\"-334.8\" font-family=\"Times,serif\" font-size=\"14.00\">petal length [cm] &lt;= 4.95</text>\n",
       "<text text-anchor=\"middle\" x=\"291.269\" y=\"-320.8\" font-family=\"Times,serif\" font-size=\"14.00\">entropy = 0.993</text>\n",
       "<text text-anchor=\"middle\" x=\"291.269\" y=\"-306.8\" font-family=\"Times,serif\" font-size=\"14.00\">samples = 71</text>\n",
       "<text text-anchor=\"middle\" x=\"291.269\" y=\"-292.8\" font-family=\"Times,serif\" font-size=\"14.00\">value = [0, 32, 39]</text>\n",
       "</g>\n",
       "<!-- 0&#45;&gt;2 -->\n",
       "<g id=\"edge2\" class=\"edge\"><title>0&#45;&gt;2</title>\n",
       "<path fill=\"none\" stroke=\"black\" d=\"M238.632,-385.992C245.584,-377.144 253.25,-367.388 260.529,-358.123\"/>\n",
       "<polygon fill=\"black\" stroke=\"black\" points=\"263.373,-360.168 266.799,-350.142 257.869,-355.843 263.373,-360.168\"/>\n",
       "<text text-anchor=\"middle\" x=\"269.778\" y=\"-370.764\" font-family=\"Times,serif\" font-size=\"14.00\">False</text>\n",
       "</g>\n",
       "<!-- 3 -->\n",
       "<g id=\"node4\" class=\"node\"><title>3</title>\n",
       "<polygon fill=\"none\" stroke=\"black\" points=\"282.688,-250 123.85,-250 123.85,-186 282.688,-186 282.688,-250\"/>\n",
       "<text text-anchor=\"middle\" x=\"203.269\" y=\"-234.8\" font-family=\"Times,serif\" font-size=\"14.00\">petal length [cm] &lt;= 1.65</text>\n",
       "<text text-anchor=\"middle\" x=\"203.269\" y=\"-220.8\" font-family=\"Times,serif\" font-size=\"14.00\">entropy = 0.431</text>\n",
       "<text text-anchor=\"middle\" x=\"203.269\" y=\"-206.8\" font-family=\"Times,serif\" font-size=\"14.00\">samples = 34</text>\n",
       "<text text-anchor=\"middle\" x=\"203.269\" y=\"-192.8\" font-family=\"Times,serif\" font-size=\"14.00\">value = [0, 31, 3]</text>\n",
       "</g>\n",
       "<!-- 2&#45;&gt;3 -->\n",
       "<g id=\"edge3\" class=\"edge\"><title>2&#45;&gt;3</title>\n",
       "<path fill=\"none\" stroke=\"black\" d=\"M263.425,-285.992C255.4,-277.055 246.542,-267.191 238.147,-257.842\"/>\n",
       "<polygon fill=\"black\" stroke=\"black\" points=\"240.519,-255.245 231.233,-250.142 235.31,-259.921 240.519,-255.245\"/>\n",
       "</g>\n",
       "<!-- 8 -->\n",
       "<g id=\"node9\" class=\"node\"><title>8</title>\n",
       "<polygon fill=\"none\" stroke=\"black\" points=\"459.688,-250 300.85,-250 300.85,-186 459.688,-186 459.688,-250\"/>\n",
       "<text text-anchor=\"middle\" x=\"380.269\" y=\"-234.8\" font-family=\"Times,serif\" font-size=\"14.00\">petal length [cm] &lt;= 1.75</text>\n",
       "<text text-anchor=\"middle\" x=\"380.269\" y=\"-220.8\" font-family=\"Times,serif\" font-size=\"14.00\">entropy = 0.179</text>\n",
       "<text text-anchor=\"middle\" x=\"380.269\" y=\"-206.8\" font-family=\"Times,serif\" font-size=\"14.00\">samples = 37</text>\n",
       "<text text-anchor=\"middle\" x=\"380.269\" y=\"-192.8\" font-family=\"Times,serif\" font-size=\"14.00\">value = [0, 1, 36]</text>\n",
       "</g>\n",
       "<!-- 2&#45;&gt;8 -->\n",
       "<g id=\"edge8\" class=\"edge\"><title>2&#45;&gt;8</title>\n",
       "<path fill=\"none\" stroke=\"black\" d=\"M319.429,-285.992C327.626,-276.966 336.683,-266.993 345.248,-257.562\"/>\n",
       "<polygon fill=\"black\" stroke=\"black\" points=\"347.854,-259.898 351.986,-250.142 342.672,-255.192 347.854,-259.898\"/>\n",
       "</g>\n",
       "<!-- 4 -->\n",
       "<g id=\"node5\" class=\"node\"><title>4</title>\n",
       "<polygon fill=\"none\" stroke=\"black\" points=\"112.307,-143 0.230497,-143 0.230497,-93 112.307,-93 112.307,-143\"/>\n",
       "<text text-anchor=\"middle\" x=\"56.2686\" y=\"-127.8\" font-family=\"Times,serif\" font-size=\"14.00\">entropy = 0.0</text>\n",
       "<text text-anchor=\"middle\" x=\"56.2686\" y=\"-113.8\" font-family=\"Times,serif\" font-size=\"14.00\">samples = 30</text>\n",
       "<text text-anchor=\"middle\" x=\"56.2686\" y=\"-99.8\" font-family=\"Times,serif\" font-size=\"14.00\">value = [0, 30, 0]</text>\n",
       "</g>\n",
       "<!-- 3&#45;&gt;4 -->\n",
       "<g id=\"edge4\" class=\"edge\"><title>3&#45;&gt;4</title>\n",
       "<path fill=\"none\" stroke=\"black\" d=\"M156.757,-185.992C138.975,-174.137 118.745,-160.651 101.121,-148.901\"/>\n",
       "<polygon fill=\"black\" stroke=\"black\" points=\"102.962,-145.923 92.7,-143.288 99.0791,-151.747 102.962,-145.923\"/>\n",
       "</g>\n",
       "<!-- 5 -->\n",
       "<g id=\"node6\" class=\"node\"><title>5</title>\n",
       "<polygon fill=\"none\" stroke=\"black\" points=\"280.643,-150 129.894,-150 129.894,-86 280.643,-86 280.643,-150\"/>\n",
       "<text text-anchor=\"middle\" x=\"205.269\" y=\"-134.8\" font-family=\"Times,serif\" font-size=\"14.00\">sepal width [cm] &lt;= 3.1</text>\n",
       "<text text-anchor=\"middle\" x=\"205.269\" y=\"-120.8\" font-family=\"Times,serif\" font-size=\"14.00\">entropy = 0.811</text>\n",
       "<text text-anchor=\"middle\" x=\"205.269\" y=\"-106.8\" font-family=\"Times,serif\" font-size=\"14.00\">samples = 4</text>\n",
       "<text text-anchor=\"middle\" x=\"205.269\" y=\"-92.8\" font-family=\"Times,serif\" font-size=\"14.00\">value = [0, 1, 3]</text>\n",
       "</g>\n",
       "<!-- 3&#45;&gt;5 -->\n",
       "<g id=\"edge5\" class=\"edge\"><title>3&#45;&gt;5</title>\n",
       "<path fill=\"none\" stroke=\"black\" d=\"M203.901,-185.992C204.067,-177.859 204.249,-168.959 204.424,-160.378\"/>\n",
       "<polygon fill=\"black\" stroke=\"black\" points=\"207.928,-160.212 204.633,-150.142 200.93,-160.069 207.928,-160.212\"/>\n",
       "</g>\n",
       "<!-- 6 -->\n",
       "<g id=\"node7\" class=\"node\"><title>6</title>\n",
       "<polygon fill=\"none\" stroke=\"black\" points=\"145.807,-50 40.7304,-50 40.7304,-0 145.807,-0 145.807,-50\"/>\n",
       "<text text-anchor=\"middle\" x=\"93.2686\" y=\"-34.8\" font-family=\"Times,serif\" font-size=\"14.00\">entropy = 0.0</text>\n",
       "<text text-anchor=\"middle\" x=\"93.2686\" y=\"-20.8\" font-family=\"Times,serif\" font-size=\"14.00\">samples = 3</text>\n",
       "<text text-anchor=\"middle\" x=\"93.2686\" y=\"-6.8\" font-family=\"Times,serif\" font-size=\"14.00\">value = [0, 0, 3]</text>\n",
       "</g>\n",
       "<!-- 5&#45;&gt;6 -->\n",
       "<g id=\"edge6\" class=\"edge\"><title>5&#45;&gt;6</title>\n",
       "<path fill=\"none\" stroke=\"black\" d=\"M167.038,-85.9375C155.298,-76.3993 142.397,-65.9167 130.711,-56.4219\"/>\n",
       "<polygon fill=\"black\" stroke=\"black\" points=\"132.812,-53.6196 122.844,-50.0301 128.398,-59.0524 132.812,-53.6196\"/>\n",
       "</g>\n",
       "<!-- 7 -->\n",
       "<g id=\"node8\" class=\"node\"><title>7</title>\n",
       "<polygon fill=\"none\" stroke=\"black\" points=\"269.807,-50 164.73,-50 164.73,-0 269.807,-0 269.807,-50\"/>\n",
       "<text text-anchor=\"middle\" x=\"217.269\" y=\"-34.8\" font-family=\"Times,serif\" font-size=\"14.00\">entropy = 0.0</text>\n",
       "<text text-anchor=\"middle\" x=\"217.269\" y=\"-20.8\" font-family=\"Times,serif\" font-size=\"14.00\">samples = 1</text>\n",
       "<text text-anchor=\"middle\" x=\"217.269\" y=\"-6.8\" font-family=\"Times,serif\" font-size=\"14.00\">value = [0, 1, 0]</text>\n",
       "</g>\n",
       "<!-- 5&#45;&gt;7 -->\n",
       "<g id=\"edge7\" class=\"edge\"><title>5&#45;&gt;7</title>\n",
       "<path fill=\"none\" stroke=\"black\" d=\"M209.365,-85.9375C210.465,-77.5916 211.661,-68.5226 212.782,-60.025\"/>\n",
       "<polygon fill=\"black\" stroke=\"black\" points=\"216.262,-60.4019 214.1,-50.0301 209.322,-59.4866 216.262,-60.4019\"/>\n",
       "</g>\n",
       "<!-- 9 -->\n",
       "<g id=\"node10\" class=\"node\"><title>9</title>\n",
       "<polygon fill=\"none\" stroke=\"black\" points=\"458.688,-150 299.85,-150 299.85,-86 458.688,-86 458.688,-150\"/>\n",
       "<text text-anchor=\"middle\" x=\"379.269\" y=\"-134.8\" font-family=\"Times,serif\" font-size=\"14.00\">petal length [cm] &lt;= 1.65</text>\n",
       "<text text-anchor=\"middle\" x=\"379.269\" y=\"-120.8\" font-family=\"Times,serif\" font-size=\"14.00\">entropy = 0.811</text>\n",
       "<text text-anchor=\"middle\" x=\"379.269\" y=\"-106.8\" font-family=\"Times,serif\" font-size=\"14.00\">samples = 4</text>\n",
       "<text text-anchor=\"middle\" x=\"379.269\" y=\"-92.8\" font-family=\"Times,serif\" font-size=\"14.00\">value = [0, 1, 3]</text>\n",
       "</g>\n",
       "<!-- 8&#45;&gt;9 -->\n",
       "<g id=\"edge9\" class=\"edge\"><title>8&#45;&gt;9</title>\n",
       "<path fill=\"none\" stroke=\"black\" d=\"M379.952,-185.992C379.869,-177.859 379.778,-168.959 379.691,-160.378\"/>\n",
       "<polygon fill=\"black\" stroke=\"black\" points=\"383.188,-160.106 379.586,-150.142 376.189,-160.178 383.188,-160.106\"/>\n",
       "</g>\n",
       "<!-- 12 -->\n",
       "<g id=\"node13\" class=\"node\"><title>12</title>\n",
       "<polygon fill=\"none\" stroke=\"black\" points=\"589.307,-143 477.23,-143 477.23,-93 589.307,-93 589.307,-143\"/>\n",
       "<text text-anchor=\"middle\" x=\"533.269\" y=\"-127.8\" font-family=\"Times,serif\" font-size=\"14.00\">entropy = 0.0</text>\n",
       "<text text-anchor=\"middle\" x=\"533.269\" y=\"-113.8\" font-family=\"Times,serif\" font-size=\"14.00\">samples = 33</text>\n",
       "<text text-anchor=\"middle\" x=\"533.269\" y=\"-99.8\" font-family=\"Times,serif\" font-size=\"14.00\">value = [0, 0, 33]</text>\n",
       "</g>\n",
       "<!-- 8&#45;&gt;12 -->\n",
       "<g id=\"edge12\" class=\"edge\"><title>8&#45;&gt;12</title>\n",
       "<path fill=\"none\" stroke=\"black\" d=\"M428.679,-185.992C447.187,-174.137 468.242,-160.651 486.586,-148.901\"/>\n",
       "<polygon fill=\"black\" stroke=\"black\" points=\"488.817,-151.629 495.35,-143.288 485.042,-145.734 488.817,-151.629\"/>\n",
       "</g>\n",
       "<!-- 10 -->\n",
       "<g id=\"node11\" class=\"node\"><title>10</title>\n",
       "<polygon fill=\"none\" stroke=\"black\" points=\"418.807,-50 313.73,-50 313.73,-0 418.807,-0 418.807,-50\"/>\n",
       "<text text-anchor=\"middle\" x=\"366.269\" y=\"-34.8\" font-family=\"Times,serif\" font-size=\"14.00\">entropy = 0.0</text>\n",
       "<text text-anchor=\"middle\" x=\"366.269\" y=\"-20.8\" font-family=\"Times,serif\" font-size=\"14.00\">samples = 3</text>\n",
       "<text text-anchor=\"middle\" x=\"366.269\" y=\"-6.8\" font-family=\"Times,serif\" font-size=\"14.00\">value = [0, 0, 3]</text>\n",
       "</g>\n",
       "<!-- 9&#45;&gt;10 -->\n",
       "<g id=\"edge10\" class=\"edge\"><title>9&#45;&gt;10</title>\n",
       "<path fill=\"none\" stroke=\"black\" d=\"M374.831,-85.9375C373.639,-77.5916 372.343,-68.5226 371.129,-60.025\"/>\n",
       "<polygon fill=\"black\" stroke=\"black\" points=\"374.581,-59.4346 369.701,-50.0301 367.651,-60.4246 374.581,-59.4346\"/>\n",
       "</g>\n",
       "<!-- 11 -->\n",
       "<g id=\"node12\" class=\"node\"><title>11</title>\n",
       "<polygon fill=\"none\" stroke=\"black\" points=\"542.807,-50 437.73,-50 437.73,-0 542.807,-0 542.807,-50\"/>\n",
       "<text text-anchor=\"middle\" x=\"490.269\" y=\"-34.8\" font-family=\"Times,serif\" font-size=\"14.00\">entropy = 0.0</text>\n",
       "<text text-anchor=\"middle\" x=\"490.269\" y=\"-20.8\" font-family=\"Times,serif\" font-size=\"14.00\">samples = 1</text>\n",
       "<text text-anchor=\"middle\" x=\"490.269\" y=\"-6.8\" font-family=\"Times,serif\" font-size=\"14.00\">value = [0, 1, 0]</text>\n",
       "</g>\n",
       "<!-- 9&#45;&gt;11 -->\n",
       "<g id=\"edge11\" class=\"edge\"><title>9&#45;&gt;11</title>\n",
       "<path fill=\"none\" stroke=\"black\" d=\"M417.158,-85.9375C428.793,-76.3993 441.579,-65.9167 453.161,-56.4219\"/>\n",
       "<polygon fill=\"black\" stroke=\"black\" points=\"455.443,-59.0768 460.957,-50.0301 451.005,-53.6634 455.443,-59.0768\"/>\n",
       "</g>\n",
       "</g>\n",
       "</svg>\n"
      ],
      "text/plain": [
       "<graphviz.files.Source at 0x1a0f1fe860>"
      ]
     },
     "execution_count": 81,
     "metadata": {},
     "output_type": "execute_result"
    }
   ],
   "source": [
    "# plot the final decision gree\n",
    "export_graphviz(tree, out_file='T1.dot', feature_names=['sepal length [cm]', 'sepal width [cm]',\n",
    "                                                        'petal length [cm]', 'petal length [cm]'])\n",
    "with open('T1.dot') as f:\n",
    "    dot_graph = f.read()\n",
    "graphviz.Source(dot_graph)"
   ]
  },
  {
   "cell_type": "code",
   "execution_count": null,
   "metadata": {
    "collapsed": true
   },
   "outputs": [],
   "source": [
    "# Changing the impurity from 'gini' to 'entorpy' made little to no difference in the result"
   ]
  },
  {
   "cell_type": "code",
   "execution_count": 53,
   "metadata": {},
   "outputs": [
    {
     "data": {
      "text/plain": [
       "<function matplotlib.pyplot.show>"
      ]
     },
     "execution_count": 53,
     "metadata": {},
     "output_type": "execute_result"
    },
    {
     "data": {
      "image/png": "[encoded data removed]",
      "text/plain": [
       "<matplotlib.figure.Figure at 0x1a0f2c1e10>"
      ]
     },
     "metadata": {},
     "output_type": "display_data"
    }
   ],
   "source": [
    "import matplotlib.pyplot as plt\n",
    "from matplotlib.colors import ListedColormap\n",
    "\n",
    "def plot_decision_regions(X, y, classifier,\n",
    "                          test_idx=None, resolution=0.02):\n",
    "# setup marker generator and color map\n",
    "\n",
    "    markers = ('s', 'x', 'o', '^', 'v')\n",
    "    colors = ('red', 'blue', 'lightgreen', 'gray', 'cyan')\n",
    "    cmap = ListedColormap(colors[:len(np.unique(y))])\n",
    "    \n",
    "    # plot the decision surface\n",
    "    x1_min, x1_max = X[:, 0].min() - 1, X[:, 0].max() + 1\n",
    "    x2_min, x2_max = X[:, 1].min() - 1, X[:, 1].max() + 1\n",
    "    xx1, xx2 = np.meshgrid(np.arange(x1_min, x1_max, resolution),\n",
    "                           np.arange(x2_min, x2_max, resolution))\n",
    "    Z = classifier.predict(np.array([xx1.ravel(), xx2.ravel()]).T)\n",
    "    Z = Z.reshape(xx1.shape)\n",
    "    plt.contourf(xx1, xx2, Z, alpha=0.4, cmap=cmap)\n",
    "    plt.xlim(xx1.min(), xx1.max())\n",
    "    plt.ylim(xx2.min(), xx2.max())\n",
    "    \n",
    "    # plot all samples\n",
    "    X_test, y_test = X[test_idx, :], y[test_idx]\n",
    "    for idx, cl in enumerate(np.unique(y)):\n",
    "        plt.scatter(x=X[y == cl, 0], y=X[y == cl, 1],\n",
    "                    alpha=0.8, c=cmap(idx),\n",
    "                    marker=markers[idx], label=cl)\n",
    "    # highlight test samples\n",
    "    if test_idx:\n",
    "        X_test, y_test = X[test_idx, :], y[test_idx]\n",
    "        plt.scatter(X_test[:, 0], X_test[:, 1], c='',\n",
    "                    alpha=1.0, linewidth=1, marker='o',\n",
    "                    s=55, label='test set')\n",
    "        \n",
    "iris = datasets.load_iris()\n",
    "X = iris.data[:, [2,3]]\n",
    "y = iris.target\n",
    "\n",
    "# Split data into training and test sets\n",
    "from sklearn.cross_validation import train_test_split\n",
    "\n",
    "X_train, X_test, y_train, y_test = train_test_split(X, y, test_size=0.3, random_state=0)\n",
    "\n",
    "# Build a decision tree classifier\n",
    "\n",
    "from sklearn.tree import DecisionTreeClassifier\n",
    "\n",
    "tree = DecisionTreeClassifier(criterion='entropy', max_depth=3, random_state=0)\n",
    "\n",
    "tree.fit(X_train, y_train)\n",
    "X_combined = np.vstack((X_train, X_test))\n",
    "y_combined = np.hstack((y_train, y_test))\n",
    "\n",
    "plot_decision_regions(X_combined, y_combined, \n",
    "                      classifier=tree, test_idx=range(105,150))\n",
    "plt.xlabel('petal length [cm]')\n",
    "plt.ylabel('petal width [cm]')\n",
    "plt.legend(loc='upper left')\n",
    "plt.show"
   ]
  },
  {
   "cell_type": "code",
   "execution_count": 46,
   "metadata": {
    "scrolled": false
   },
   "outputs": [
    {
     "data": {
      "image/png": "[encoded data removed]",
      "text/plain": [
       "<matplotlib.figure.Figure at 0x1a0fe3b4a8>"
      ]
     },
     "metadata": {},
     "output_type": "display_data"
    }
   ],
   "source": [
    "# plot errors by tree depth    \n",
    "  \n",
    "plt.close('all')\n",
    "fig, ax = plt.subplots(nrows=1, ncols=1, figsize = (8,4))\n",
    "ax.set_xlabel('Maximum Tree Depth')\n",
    "ax.set_ylabel('Error')\n",
    "ax.set_title('Learning a Line Segment', fontsize ='medium')\n",
    "ax.xaxis.set_major_locator(MaxNLocator(integer=True))\n",
    "ax.plot(np.arange(1,MaxDepth+1),Errors[:,0], label='train')\n",
    "ax.plot(np.arange(1,MaxDepth+1),Errors[:,1], label='test')\n",
    "ax.legend(loc='upper right', fontsize='medium')\n",
    "plt.show() \n"
   ]
  },
  {
   "cell_type": "code",
   "execution_count": null,
   "metadata": {
    "collapsed": true
   },
   "outputs": [],
   "source": []
  }
 ],
 "metadata": {
  "anaconda-cloud": {},
  "kernelspec": {
   "display_name": "Python 3",
   "language": "python",
   "name": "python3"
  },
  "language_info": {
   "codemirror_mode": {
    "name": "ipython",
    "version": 3
   },
   "file_extension": ".py",
   "mimetype": "text/x-python",
   "name": "python",
   "nbconvert_exporter": "python",
   "pygments_lexer": "ipython3",
   "version": "3.5.4"
  }
 },
 "nbformat": 4,
 "nbformat_minor": 1
}
