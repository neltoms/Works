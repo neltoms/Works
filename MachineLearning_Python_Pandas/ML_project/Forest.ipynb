{
 "cells": [
  {
   "cell_type": "code",
   "execution_count": 1,
   "metadata": {
    "collapsed": true
   },
   "outputs": [],
   "source": [
    "from sklearn.ensemble import RandomForestClassifier\n",
    "import pickle\n",
    "import numpy as np\n",
    "import matplotlib.pyplot as plt\n",
    "%matplotlib inline"
   ]
  },
  {
   "cell_type": "code",
   "execution_count": 2,
   "metadata": {},
   "outputs": [
    {
     "data": {
      "text/plain": [
       "(155576, 32)"
      ]
     },
     "execution_count": 2,
     "metadata": {},
     "output_type": "execute_result"
    }
   ],
   "source": [
    "with open('X_train.pkl', 'rb') as input:\n",
    "    X_train = pickle.load(input)\n",
    "with open('y_train.pkl', 'rb') as input:\n",
    "    y_train = pickle.load(input)\n",
    "X_train = X_train[(y_train == 0) | (y_train == 1) | (y_train == 2)]\n",
    "y_train = y_train[(y_train == 0) | (y_train == 1) | (y_train == 2)]\n",
    "X_train.shape"
   ]
  },
  {
   "cell_type": "code",
   "execution_count": 3,
   "metadata": {
    "scrolled": true
   },
   "outputs": [
    {
     "data": {
      "text/plain": [
       "RandomForestClassifier(bootstrap=False, class_weight='balanced_subsample',\n",
       "            criterion='gini', max_depth=13, max_features='auto',\n",
       "            max_leaf_nodes=None, min_impurity_decrease=0.0,\n",
       "            min_impurity_split=None, min_samples_leaf=1,\n",
       "            min_samples_split=2, min_weight_fraction_leaf=0.0,\n",
       "            n_estimators=300, n_jobs=2, oob_score=False, random_state=0,\n",
       "            verbose=0, warm_start=False)"
      ]
     },
     "execution_count": 3,
     "metadata": {},
     "output_type": "execute_result"
    }
   ],
   "source": [
    "forest = RandomForestClassifier(n_estimators=300, criterion='gini', max_depth=13, min_samples_split=2, \n",
    "                                min_samples_leaf=1, bootstrap=False, n_jobs=2, \n",
    "                                random_state=0, class_weight='balanced_subsample')\n",
    "forest.fit(X_train,y_train)"
   ]
  },
  {
   "cell_type": "markdown",
   "metadata": {},
   "source": [
    "# Accuracy Measure and HeatMap for Training Set"
   ]
  },
  {
   "cell_type": "code",
   "execution_count": 4,
   "metadata": {},
   "outputs": [
    {
     "name": "stdout",
     "output_type": "stream",
     "text": [
      "0.936834730293\n"
     ]
    },
    {
     "data": {
      "text/plain": [
       "<matplotlib.axes._subplots.AxesSubplot at 0x1a1a943358>"
      ]
     },
     "execution_count": 4,
     "metadata": {},
     "output_type": "execute_result"
    },
    {
     "data": {
      "image/png": "[encoded data removed]",
      "text/plain": [
       "<matplotlib.figure.Figure at 0x1a1a8c3e10>"
      ]
     },
     "metadata": {},
     "output_type": "display_data"
    }
   ],
   "source": [
    "import seaborn as sns\n",
    "from sklearn.metrics import accuracy_score,confusion_matrix\n",
    "y_pred = forest.predict(X_train)\n",
    "print(accuracy_score(y_train,y_pred))\n",
    "cm = confusion_matrix(y_train,y_pred)\n",
    "sns.heatmap(cm, annot=True, fmt=\"d\", linewidths=.5, cmap='YlGnBu')\n"
   ]
  },
  {
   "cell_type": "markdown",
   "metadata": {},
   "source": [
    "# Individual Label Accuracy"
   ]
  },
  {
   "cell_type": "code",
   "execution_count": 5,
   "metadata": {},
   "outputs": [
    {
     "name": "stdout",
     "output_type": "stream",
     "text": [
      "fixation: 0.99 \n",
      "saccades: 0.98 \n",
      "pso: 0.52\n"
     ]
    }
   ],
   "source": [
    "fix = (cm[0][0])/(cm[1][0]+cm[2][0]+cm[0][0])\n",
    "sac = (cm[1][1])/(cm[0][1]+cm[2][1]+cm[1][1])\n",
    "pso = (cm[2][2])/(cm[0][2]+cm[1][2]+cm[2][2])\n",
    "\n",
    "print(\"fixation: %0.2f \\nsaccades: %0.2f \\npso: %0.2f\" % (fix, sac, pso))"
   ]
  },
  {
   "cell_type": "code",
   "execution_count": 6,
   "metadata": {},
   "outputs": [
    {
     "data": {
      "text/plain": [
       "'\\nfrom sklearn.model_selection import cross_val_predict\\nfrom sklearn import metrics\\npred = cross_val_predict(forest, X_train, y_train, cv=3)\\nmetrics.accuracy_score(y_train, pred)\\n'"
      ]
     },
     "execution_count": 6,
     "metadata": {},
     "output_type": "execute_result"
    }
   ],
   "source": [
    "'''\n",
    "from sklearn.model_selection import cross_val_predict\n",
    "from sklearn import metrics\n",
    "pred = cross_val_predict(forest, X_train, y_train, cv=3)\n",
    "metrics.accuracy_score(y_train, pred)\n",
    "'''"
   ]
  },
  {
   "cell_type": "markdown",
   "metadata": {},
   "source": [
    "# Cross-Validation with Test Set"
   ]
  },
  {
   "cell_type": "code",
   "execution_count": 17,
   "metadata": {},
   "outputs": [
    {
     "data": {
      "text/plain": [
       "(20287,)"
      ]
     },
     "execution_count": 17,
     "metadata": {},
     "output_type": "execute_result"
    }
   ],
   "source": [
    "with open('X_test.pkl', 'rb') as input:\n",
    "    X_val = pickle.load(input)\n",
    "with open('y_test.pkl', 'rb') as input:\n",
    "    y_val = pickle.load(input)\n",
    "X_val = X_val[(y_val == 0) | (y_val == 1) | (y_val == 2)]\n",
    "y_val = y_val[(y_val == 0) | (y_val == 1) | (y_val == 2)]\n",
    "y_val.shape"
   ]
  },
  {
   "cell_type": "code",
   "execution_count": 30,
   "metadata": {
    "collapsed": true
   },
   "outputs": [],
   "source": [
    "X_val_processed = []\n",
    "y_val_processed = []\n",
    "for i in [0,1,2]:\n",
    "    X_tmp = X_val[y_val == i]\n",
    "    for j in np.random.randint(len(X_tmp), size = 100000):\n",
    "        X_val_processed.append(X_tmp[j])\n",
    "        y_val_processed.append(i)\n",
    "X_val_processed = np.array(X_val_processed)[:,:]\n",
    "y_val_processed = np.array(y_val_processed)\n",
    "\n",
    "#y_pred = forest.predict(X_val_processed)\n",
    "#cm = confusion_matrix(y_val_processed,y_pred)\n",
    "#sns.heatmap(cm, annot=True, fmt=\"d\", linewidths=.5, cmap='YlGnBu')"
   ]
  },
  {
   "cell_type": "code",
   "execution_count": 9,
   "metadata": {},
   "outputs": [
    {
     "name": "stdout",
     "output_type": "stream",
     "text": [
      "fixation: 0.85 \n",
      "saccades: 0.81 \n",
      "pso: 0.73\n"
     ]
    }
   ],
   "source": [
    "fix = (cm[0][0])/(cm[1][0]+cm[2][0]+cm[0][0])\n",
    "sac = (cm[1][1])/(cm[0][1]+cm[2][1]+cm[1][1])\n",
    "pso = (cm[2][2])/(cm[0][2]+cm[1][2]+cm[2][2])\n",
    "\n",
    "print(\"fixation: %0.2f \\nsaccades: %0.2f \\npso: %0.2f\" % (fix, sac, pso))"
   ]
  },
  {
   "cell_type": "code",
   "execution_count": 10,
   "metadata": {},
   "outputs": [
    {
     "name": "stdout",
     "output_type": "stream",
     "text": [
      "Accuracy: 0.798 \n"
     ]
    }
   ],
   "source": [
    "score = (accuracy_score(y_val_processed,y_pred))\n",
    "print(\"Accuracy: %0.3f \" % (score))"
   ]
  },
  {
   "cell_type": "markdown",
   "metadata": {
    "collapsed": true
   },
   "source": [
    "# Training and Testing Using Logistic Regression"
   ]
  },
  {
   "cell_type": "code",
   "execution_count": 19,
   "metadata": {
    "collapsed": true
   },
   "outputs": [],
   "source": [
    "from sklearn.linear_model import LogisticRegression"
   ]
  },
  {
   "cell_type": "code",
   "execution_count": 20,
   "metadata": {},
   "outputs": [
    {
     "data": {
      "text/plain": [
       "LogisticRegression(C=1000.0, class_weight='balanced', dual=False,\n",
       "          fit_intercept=True, intercept_scaling=1, max_iter=100,\n",
       "          multi_class='ovr', n_jobs=1, penalty='l2', random_state=0,\n",
       "          solver='liblinear', tol=0.0001, verbose=0, warm_start=False)"
      ]
     },
     "execution_count": 20,
     "metadata": {},
     "output_type": "execute_result"
    }
   ],
   "source": [
    "lr = LogisticRegression(C = 1000.0, class_weight='balanced', max_iter=100, multi_class='ovr', solver='liblinear', random_state=0)\n",
    "lr.fit(X_train, y_train)"
   ]
  },
  {
   "cell_type": "code",
   "execution_count": 21,
   "metadata": {},
   "outputs": [
    {
     "data": {
      "text/plain": [
       "<matplotlib.axes._subplots.AxesSubplot at 0x1a1eddb860>"
      ]
     },
     "execution_count": 21,
     "metadata": {},
     "output_type": "execute_result"
    },
    {
     "data": {
      "image/png": "[encoded data removed]",
      "text/plain": [
       "<matplotlib.figure.Figure at 0x1a1edc8d68>"
      ]
     },
     "metadata": {},
     "output_type": "display_data"
    }
   ],
   "source": [
    "lr_yPred = lr.predict(X_val_processed)\n",
    "lr_cm = confusion_matrix(y_val_processed, lr_yPred)\n",
    "sns.heatmap(lr_cm, annot=True, fmt=\"d\", linewidths=.5, cmap='YlGnBu')"
   ]
  },
  {
   "cell_type": "code",
   "execution_count": 22,
   "metadata": {},
   "outputs": [
    {
     "name": "stdout",
     "output_type": "stream",
     "text": [
      "fixation: 0.72 \n",
      "saccades: 0.82 \n",
      "pso: 0.74\n"
     ]
    }
   ],
   "source": [
    "fix = (lr_cm[0][0])/(lr_cm[1][0]+lr_cm[2][0]+lr_cm[0][0])\n",
    "sac = (lr_cm[1][1])/(lr_cm[0][1]+lr_cm[2][1]+lr_cm[1][1])\n",
    "pso = (lr_cm[2][2])/(lr_cm[0][2]+lr_cm[1][2]+lr_cm[2][2])\n",
    "\n",
    "print(\"fixation: %0.2f \\nsaccades: %0.2f \\npso: %0.2f\" % (fix, sac, pso))"
   ]
  },
  {
   "cell_type": "code",
   "execution_count": 23,
   "metadata": {},
   "outputs": [
    {
     "name": "stdout",
     "output_type": "stream",
     "text": [
      "Accuracy: 0.757 \n"
     ]
    }
   ],
   "source": [
    "score = (accuracy_score(y_val_processed,lr_yPred))\n",
    "print(\"Accuracy: %0.3f \" % (score))"
   ]
  },
  {
   "cell_type": "markdown",
   "metadata": {},
   "source": [
    "# Testing and Trainin Using SVM"
   ]
  },
  {
   "cell_type": "code",
   "execution_count": 10,
   "metadata": {},
   "outputs": [
    {
     "data": {
      "text/plain": [
       "32"
      ]
     },
     "execution_count": 10,
     "metadata": {},
     "output_type": "execute_result"
    }
   ],
   "source": [
    "from sklearn.svm import SVC\n",
    "X_train.shape[1]"
   ]
  },
  {
   "cell_type": "code",
   "execution_count": 22,
   "metadata": {},
   "outputs": [
    {
     "data": {
      "image/png": "[encoded data removed]",
      "text/plain": [
       "<matplotlib.figure.Figure at 0x1a15767128>"
      ]
     },
     "metadata": {},
     "output_type": "display_data"
    }
   ],
   "source": [
    "idx = ['x', 'o', '*']\n",
    "colors = ['b', 'r', 'g']\n",
    "for i in range(len(X_train[0])):\n",
    "    for idx, colors in zip(idx, colors):\n",
    "        plt.scatter(X_val_processed[(y_val_processed == 0), i], \n",
    "                    X_val_processed[(y_val_processed == 1), i], c=colors, marker=idx)\n",
    "plt.legend\n",
    "plt.show()"
   ]
  },
  {
   "cell_type": "code",
   "execution_count": 23,
   "metadata": {},
   "outputs": [
    {
     "data": {
      "text/plain": [
       "SVC(C=10.0, cache_size=200, class_weight='balanced', coef0=0.0,\n",
       "  decision_function_shape='ovr', degree=1, gamma=20.0, kernel='rbf',\n",
       "  max_iter=-1, probability=False, random_state=0, shrinking=True,\n",
       "  tol=0.001, verbose=False)"
      ]
     },
     "execution_count": 23,
     "metadata": {},
     "output_type": "execute_result"
    }
   ],
   "source": [
    "svm = SVC(C = 10.0 , degree=1, gamma=20.0, kernel = 'rbf', decision_function_shape = 'ovr', random_state=0, class_weight='balanced')\n",
    "svm.fit(X_train, y_train)"
   ]
  },
  {
   "cell_type": "code",
   "execution_count": 32,
   "metadata": {
    "collapsed": true
   },
   "outputs": [],
   "source": [
    "y_pred = svm.predict(X_train)\n",
    "sv_cm = confusion_matrix(y_train, y_pred)"
   ]
  },
  {
   "cell_type": "code",
   "execution_count": 33,
   "metadata": {},
   "outputs": [
    {
     "name": "stdout",
     "output_type": "stream",
     "text": [
      "\n",
      "accuracy score: 0.923645035224\n",
      "\n",
      "number support vectors for classes:\n",
      " [35974  8524  7034]\n",
      "\n",
      "confusion_matrix:\n",
      " Axes(0.125,0.125;0.62x0.755)\n"
     ]
    },
    {
     "data": {
      "image/png": "[encoded data removed]",
      "text/plain": [
       "<matplotlib.figure.Figure at 0x1a14de05c0>"
      ]
     },
     "metadata": {},
     "output_type": "display_data"
    }
   ],
   "source": [
    "print('\\naccuracy score:',accuracy_score(y_train, y_pred))\n",
    "print('\\nnumber support vectors for classes:\\n',svm.n_support_)\n",
    "print('\\nconfusion_matrix:\\n',sns.heatmap(sv_cm, annot=True, fmt=\"d\", linewidths=.5, cmap='YlGnBu'))"
   ]
  },
  {
   "cell_type": "code",
   "execution_count": 34,
   "metadata": {},
   "outputs": [
    {
     "name": "stdout",
     "output_type": "stream",
     "text": [
      "fixation: 0.99 \n",
      "saccades: 0.90 \n",
      "pso: 0.49\n"
     ]
    }
   ],
   "source": [
    "fix = (sv_cm[0][0])/(sv_cm[1][0]+sv_cm[2][0]+sv_cm[0][0])\n",
    "sac = (sv_cm[1][1])/(sv_cm[0][1]+sv_cm[2][1]+sv_cm[1][1])\n",
    "pso = (sv_cm[2][2])/(sv_cm[0][2]+sv_cm[1][2]+sv_cm[2][2])\n",
    "\n",
    "print(\"fixation: %0.2f \\nsaccades: %0.2f \\npso: %0.2f\" % (fix, sac, pso))"
   ]
  },
  {
   "cell_type": "code",
   "execution_count": 35,
   "metadata": {},
   "outputs": [
    {
     "name": "stdout",
     "output_type": "stream",
     "text": [
      "\n",
      "accuracy score: 0.691256666667\n",
      "\n",
      "confusion_matrix:\n",
      " Axes(0.125,0.125;0.62x0.755)\n"
     ]
    },
    {
     "data": {
      "image/png": "[encoded data removed]",
      "text/plain": [
       "<matplotlib.figure.Figure at 0x1a157913c8>"
      ]
     },
     "metadata": {},
     "output_type": "display_data"
    }
   ],
   "source": [
    "y_pred = svm.predict(X_val_processed)\n",
    "print('\\naccuracy score:',accuracy_score(y_val_processed, y_pred))\n",
    "print('\\nconfusion_matrix:\\n',sns.heatmap(sv_cm, annot=True, fmt=\"d\", linewidths=.5, cmap='YlGnBu'))"
   ]
  },
  {
   "cell_type": "code",
   "execution_count": 36,
   "metadata": {},
   "outputs": [
    {
     "name": "stdout",
     "output_type": "stream",
     "text": [
      "fixation: 0.99 \n",
      "saccades: 0.90 \n",
      "pso: 0.49\n"
     ]
    }
   ],
   "source": [
    "fix = (sv_cm[0][0])/(sv_cm[1][0]+sv_cm[2][0]+sv_cm[0][0])\n",
    "sac = (sv_cm[1][1])/(sv_cm[0][1]+sv_cm[2][1]+sv_cm[1][1])\n",
    "pso = (sv_cm[2][2])/(sv_cm[0][2]+sv_cm[1][2]+sv_cm[2][2])\n",
    "\n",
    "print(\"fixation: %0.2f \\nsaccades: %0.2f \\npso: %0.2f\" % (fix, sac, pso))"
   ]
  },
  {
   "cell_type": "code",
   "execution_count": null,
   "metadata": {
    "collapsed": true
   },
   "outputs": [],
   "source": []
  }
 ],
 "metadata": {
  "celltoolbar": "Raw Cell Format",
  "kernelspec": {
   "display_name": "Python 3",
   "language": "python",
   "name": "python3"
  },
  "language_info": {
   "codemirror_mode": {
    "name": "ipython",
    "version": 3
   },
   "file_extension": ".py",
   "mimetype": "text/x-python",
   "name": "python",
   "nbconvert_exporter": "python",
   "pygments_lexer": "ipython3",
   "version": "3.6.3"
  }
 },
 "nbformat": 4,
 "nbformat_minor": 2
}
