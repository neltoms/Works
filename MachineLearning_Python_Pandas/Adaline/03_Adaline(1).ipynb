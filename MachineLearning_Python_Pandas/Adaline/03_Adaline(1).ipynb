{
 "cells": [
  {
   "cell_type": "code",
   "execution_count": 10,
   "metadata": {
    "collapsed": true
   },
   "outputs": [],
   "source": [
    "import numpy as np\n",
    "import pandas as pd\n",
    "import matplotlib.pyplot as plt \n",
    "from matplotlib.colors import ListedColormap"
   ]
  },
  {
   "cell_type": "code",
   "execution_count": 11,
   "metadata": {
    "collapsed": false
   },
   "outputs": [
    {
     "name": "stdout",
     "output_type": "stream",
     "text": [
      "0 [5.1 0.222222222 3.5 0.625 1.4 0.06779661 0.2 0.041666667000000004 'setosa']\n",
      "1 [4.9 0.166666667 3.0 0.41666666700000005 1.4 0.06779661 0.2\n",
      " 0.041666667000000004 'setosa']\n",
      "2 [4.7 0.111111111 3.2 0.5 1.3 0.050847458 0.2 0.041666667000000004 'setosa']\n",
      "3 [4.6 0.083333333 3.1 0.45833333299999995 1.5 0.084745763 0.2\n",
      " 0.041666667000000004 'setosa']\n",
      "4 [5.0 0.194444444 3.6 0.666666667 1.4 0.06779661 0.2 0.041666667000000004\n",
      " 'setosa']\n",
      "5 [5.4 0.305555556 3.9 0.791666667 1.7 0.118644068 0.4 0.125 'setosa']\n",
      "6 [4.6 0.083333333 3.4 0.583333333 1.4 0.06779661 0.3 0.083333333 'setosa']\n",
      "7 [5.0 0.194444444 3.4 0.583333333 1.5 0.084745763 0.2 0.041666667000000004\n",
      " 'setosa']\n",
      "8 [4.4 0.027777778 2.9 0.375 1.4 0.06779661 0.2 0.041666667000000004 'setosa']\n",
      "9 [4.9 0.166666667 3.1 0.45833333299999995 1.5 0.084745763 0.1 0.01 'setosa']\n",
      "10 [5.4 0.305555556 3.7 0.708333333 1.5 0.084745763 0.2 0.041666667000000004\n",
      " 'setosa']\n",
      "11 [4.8 0.13888888900000002 3.4 0.583333333 1.6 0.101694915 0.2\n",
      " 0.041666667000000004 'setosa']\n",
      "12 [4.8 0.13888888900000002 3.0 0.41666666700000005 1.4 0.06779661 0.1 0.01\n",
      " 'setosa']\n",
      "13 [4.3 0.01 3.0 0.41666666700000005 1.1 0.016949153 0.1 0.01 'setosa']\n",
      "14 [5.8 0.41666666700000005 4.0 0.833333333 1.2 0.033898305 0.2\n",
      " 0.041666667000000004 'setosa']\n",
      "15 [5.7 0.38888888899999996 4.4 0.9999 1.5 0.084745763 0.4 0.125 'setosa']\n",
      "16 [5.4 0.305555556 3.9 0.791666667 1.3 0.050847458 0.4 0.125 'setosa']\n",
      "17 [5.1 0.222222222 3.5 0.625 1.4 0.06779661 0.3 0.083333333 'setosa']\n",
      "18 [5.7 0.38888888899999996 3.8 0.75 1.7 0.118644068 0.3 0.083333333 'setosa']\n",
      "19 [5.1 0.222222222 3.8 0.75 1.5 0.084745763 0.3 0.083333333 'setosa']\n",
      "20 [5.4 0.305555556 3.4 0.583333333 1.7 0.118644068 0.2 0.041666667000000004\n",
      " 'setosa']\n",
      "21 [5.1 0.222222222 3.7 0.708333333 1.5 0.084745763 0.4 0.125 'setosa']\n",
      "22 [4.6 0.083333333 3.6 0.666666667 1.0 0.01 0.2 0.041666667000000004 'setosa']\n",
      "23 [5.1 0.222222222 3.3 0.541666667 1.7 0.118644068 0.5 0.166666667 'setosa']\n",
      "24 [4.8 0.13888888900000002 3.4 0.583333333 1.9 0.152542373 0.2\n",
      " 0.041666667000000004 'setosa']\n",
      "25 [5.0 0.194444444 3.0 0.41666666700000005 1.6 0.101694915 0.2\n",
      " 0.041666667000000004 'setosa']\n",
      "26 [5.0 0.194444444 3.4 0.583333333 1.6 0.101694915 0.4 0.125 'setosa']\n",
      "27 [5.2 0.25 3.5 0.625 1.5 0.084745763 0.2 0.041666667000000004 'setosa']\n",
      "28 [5.2 0.25 3.4 0.583333333 1.4 0.06779661 0.2 0.041666667000000004 'setosa']\n",
      "29 [4.7 0.111111111 3.2 0.5 1.6 0.101694915 0.2 0.041666667000000004 'setosa']\n",
      "30 [4.8 0.13888888900000002 3.1 0.45833333299999995 1.6 0.101694915 0.2\n",
      " 0.041666667000000004 'setosa']\n",
      "31 [5.4 0.305555556 3.4 0.583333333 1.5 0.084745763 0.4 0.125 'setosa']\n",
      "32 [7.0 0.75 3.2 0.5 4.7 0.627118644 1.4 0.541666667 'versicolor']\n",
      "33 [6.4 0.583333333 3.2 0.5 4.5 0.5932203389999999 1.5 0.583333333\n",
      " 'versicolor']\n",
      "34 [6.9 0.7222222220000001 3.1 0.45833333299999995 4.9 0.661016949 1.5\n",
      " 0.583333333 'versicolor']\n",
      "35 [5.5 0.333333333 2.3 0.125 4.0 0.508474576 1.3 0.5 'versicolor']\n",
      "36 [6.5 0.611111111 2.8 0.333333333 4.6 0.610169492 1.5 0.583333333\n",
      " 'versicolor']\n",
      "37 [5.7 0.38888888899999996 2.8 0.333333333 4.5 0.5932203389999999 1.3 0.5\n",
      " 'versicolor']\n",
      "38 [6.3 0.5555555560000001 3.3 0.541666667 4.7 0.627118644 1.6 0.625\n",
      " 'versicolor']\n",
      "39 [4.9 0.166666667 2.4 0.166666667 3.3 0.38983050799999996 1.0 0.375\n",
      " 'versicolor']\n",
      "40 [6.6 0.638888889 2.9 0.375 4.6 0.610169492 1.3 0.5 'versicolor']\n",
      "41 [5.2 0.25 2.7 0.291666667 3.9 0.491525424 1.4 0.541666667 'versicolor']\n",
      "42 [5.0 0.194444444 2.0 0.01 3.5 0.423728814 1.0 0.375 'versicolor']\n",
      "43 [5.9 0.444444444 3.0 0.41666666700000005 4.2 0.542372881 1.5 0.583333333\n",
      " 'versicolor']\n",
      "44 [6.0 0.472222222 2.2 0.083333333 4.0 0.508474576 1.0 0.375 'versicolor']\n",
      "45 [6.1 0.5 2.9 0.375 4.7 0.627118644 1.4 0.541666667 'versicolor']\n",
      "46 [5.6 0.36111111100000004 2.9 0.375 3.6 0.44067796600000003 1.3 0.5\n",
      " 'versicolor']\n",
      "47 [6.7 0.666666667 3.1 0.45833333299999995 4.4 0.576271186 1.4 0.541666667\n",
      " 'versicolor']\n",
      "48 [5.6 0.36111111100000004 3.0 0.41666666700000005 4.5 0.5932203389999999 1.5\n",
      " 0.583333333 'versicolor']\n",
      "49 [5.8 0.41666666700000005 2.7 0.291666667 4.1 0.525423729 1.0 0.375\n",
      " 'versicolor']\n",
      "50 [6.2 0.5277777779999999 2.2 0.083333333 4.5 0.5932203389999999 1.5\n",
      " 0.583333333 'versicolor']\n",
      "51 [5.6 0.36111111100000004 2.5 0.208333333 3.9 0.491525424 1.1\n",
      " 0.41666666700000005 'versicolor']\n",
      "52 [5.9 0.444444444 3.2 0.5 4.8 0.644067797 1.8 0.708333333 'versicolor']\n",
      "53 [6.1 0.5 2.8 0.333333333 4.0 0.508474576 1.3 0.5 'versicolor']\n",
      "54 [6.3 0.5555555560000001 2.5 0.208333333 4.9 0.661016949 1.5 0.583333333\n",
      " 'versicolor']\n",
      "55 [6.1 0.5 2.8 0.333333333 4.7 0.627118644 1.2 0.45833333299999995\n",
      " 'versicolor']\n",
      "56 [6.4 0.583333333 2.9 0.375 4.3 0.559322034 1.3 0.5 'versicolor']\n",
      "57 [6.6 0.638888889 3.0 0.41666666700000005 4.4 0.576271186 1.4 0.541666667\n",
      " 'versicolor']\n",
      "58 [6.8 0.694444444 2.8 0.333333333 4.8 0.644067797 1.4 0.541666667\n",
      " 'versicolor']\n",
      "59 [6.7 0.666666667 3.0 0.41666666700000005 5.0 0.6779661020000001 1.7\n",
      " 0.666666667 'versicolor']\n",
      "60 [6.0 0.472222222 2.9 0.375 4.5 0.5932203389999999 1.5 0.583333333\n",
      " 'versicolor']\n",
      "61 [5.7 0.38888888899999996 2.6 0.25 3.5 0.423728814 1.0 0.375 'versicolor']\n",
      "62 [5.5 0.333333333 2.4 0.166666667 3.8 0.474576271 1.1 0.41666666700000005\n",
      " 'versicolor']\n",
      "63 [5.5 0.333333333 2.4 0.166666667 3.7 0.45762711899999997 1.0 0.375\n",
      " 'versicolor']\n",
      "64 [5.8 0.41666666700000005 2.7 0.291666667 3.9 0.491525424 1.2\n",
      " 0.45833333299999995 'versicolor']\n",
      "65 [6.0 0.472222222 2.7 0.291666667 5.1 0.6949152540000001 1.6 0.625\n",
      " 'versicolor']\n",
      "66 [6.3 0.5555555560000001 3.3 0.541666667 6.0 0.847457627 2.5 0.9999\n",
      " 'virginica']\n",
      "67 [5.8 0.41666666700000005 2.7 0.291666667 5.1 0.6949152540000001 1.9 0.75\n",
      " 'virginica']\n",
      "68 [7.1 0.7777777779999999 3.0 0.41666666700000005 5.9 0.830508475 2.1\n",
      " 0.833333333 'virginica']\n",
      "69 [6.3 0.5555555560000001 2.9 0.375 5.6 0.779661017 1.8 0.708333333\n",
      " 'virginica']\n",
      "70 [6.5 0.611111111 3.0 0.41666666700000005 5.8 0.813559322 2.2 0.875\n",
      " 'virginica']\n",
      "71 [7.6 0.916666667 3.0 0.41666666700000005 6.6 0.949152542 2.1 0.833333333\n",
      " 'virginica']\n",
      "72 [4.9 0.166666667 2.5 0.208333333 4.5 0.5932203389999999 1.7 0.666666667\n",
      " 'virginica']\n",
      "73 [7.3 0.833333333 2.9 0.375 6.3 0.898305085 1.8 0.708333333 'virginica']\n",
      "74 [6.7 0.666666667 2.5 0.208333333 5.8 0.813559322 1.8 0.708333333\n",
      " 'virginica']\n",
      "75 [7.2 0.805555556 3.6 0.666666667 6.1 0.86440678 2.5 0.9999 'virginica']\n",
      "76 [6.5 0.611111111 3.2 0.5 5.1 0.6949152540000001 2.0 0.791666667 'virginica']\n",
      "77 [6.4 0.583333333 2.7 0.291666667 5.3 0.7288135590000001 1.9 0.75\n",
      " 'virginica']\n",
      "78 [6.8 0.694444444 3.0 0.41666666700000005 5.5 0.762711864 2.1 0.833333333\n",
      " 'virginica']\n",
      "79 [5.7 0.38888888899999996 2.5 0.208333333 5.0 0.6779661020000001 2.0\n",
      " 0.791666667 'virginica']\n",
      "80 [5.8 0.41666666700000005 2.8 0.333333333 5.1 0.6949152540000001 2.4\n",
      " 0.958333333 'virginica']\n",
      "81 [6.4 0.583333333 3.2 0.5 5.3 0.7288135590000001 2.3 0.916666667 'virginica']\n",
      "82 [6.5 0.611111111 3.0 0.41666666700000005 5.5 0.762711864 1.8 0.708333333\n",
      " 'virginica']\n",
      "83 [7.7 0.944444444 3.8 0.75 6.7 0.966101695 2.2 0.875 'virginica']\n",
      "84 [7.7 0.944444444 2.6 0.25 6.9 0.9999 2.3 0.916666667 'virginica']\n",
      "85 [6.0 0.472222222 2.2 0.083333333 5.0 0.6779661020000001 1.5 0.583333333\n",
      " 'virginica']\n",
      "86 [6.9 0.7222222220000001 3.2 0.5 5.7 0.796610169 2.3 0.916666667 'virginica']\n",
      "87 [5.6 0.36111111100000004 2.8 0.333333333 4.9 0.661016949 2.0 0.791666667\n",
      " 'virginica']\n",
      "88 [7.7 0.944444444 2.8 0.333333333 6.7 0.966101695 2.0 0.791666667\n",
      " 'virginica']\n",
      "89 [6.3 0.5555555560000001 2.7 0.291666667 4.9 0.661016949 1.8 0.708333333\n",
      " 'virginica']\n",
      "90 [6.7 0.666666667 3.3 0.541666667 5.7 0.796610169 2.1 0.833333333\n",
      " 'virginica']\n",
      "91 [7.2 0.805555556 3.2 0.5 6.0 0.847457627 1.8 0.708333333 'virginica']\n",
      "92 [6.2 0.5277777779999999 2.8 0.333333333 4.8 0.644067797 1.8 0.708333333\n",
      " 'virginica']\n",
      "93 [6.1 0.5 3.0 0.41666666700000005 4.9 0.661016949 1.8 0.708333333\n",
      " 'virginica']\n",
      "94 [6.4 0.583333333 2.8 0.333333333 5.6 0.779661017 2.1 0.833333333\n",
      " 'virginica']\n",
      "95 [7.2 0.805555556 3.0 0.41666666700000005 5.8 0.813559322 1.6 0.625\n",
      " 'virginica']\n",
      "96 [7.4 0.8611111109999999 2.8 0.333333333 6.1 0.86440678 1.9 0.75 'virginica']\n",
      "97 [7.9 0.9999 3.8 0.75 6.4 0.9152542370000001 2.0 0.791666667 'virginica']\n",
      "98 [6.4 0.583333333 2.8 0.333333333 5.6 0.779661017 2.2 0.875 'virginica']\n",
      "99 [6.3 0.5555555560000001 2.8 0.333333333 5.1 0.6949152540000001 1.5\n",
      " 0.583333333 'virginica']\n"
     ]
    },
    {
     "data": {
      "text/plain": [
       "array([1.4, 1.4, 1.3, 1.5, 1.4, 1.7, 1.4, 1.5, 1.4, 1.5, 1.5, 1.6, 1.4,\n",
       "       1.1, 1.2, 1.5, 1.3, 1.4, 1.7, 1.5, 1.7, 1.5, 1.0, 1.7, 1.9, 1.6,\n",
       "       1.6, 1.5, 1.4, 1.6, 1.6, 1.5, 4.7, 4.5, 4.9, 4.0, 4.6, 4.5, 4.7,\n",
       "       3.3, 4.6, 3.9, 3.5, 4.2, 4.0, 4.7, 3.6, 4.4, 4.5, 4.1, 4.5, 3.9,\n",
       "       4.8, 4.0, 4.9, 4.7, 4.3, 4.4, 4.8, 5.0, 4.5, 3.5, 3.8, 3.7, 3.9,\n",
       "       5.1, 6.0, 5.1, 5.9, 5.6, 5.8, 6.6, 4.5, 6.3, 5.8, 6.1, 5.1, 5.3,\n",
       "       5.5, 5.0, 5.1, 5.3, 5.5, 6.7, 6.9, 5.0, 5.7, 4.9, 6.7, 4.9, 5.7,\n",
       "       6.0, 4.8, 4.9, 5.6, 5.8, 6.1, 6.4, 5.6, 5.1], dtype=object)"
      ]
     },
     "execution_count": 11,
     "metadata": {},
     "output_type": "execute_result"
    }
   ],
   "source": [
    "# read Iris data set\n",
    "\n",
    "#df = pd.read_csv('https://archive.ics.uci.edu/ml/machine-learning-databases/iris/iris.data', header = None)\n",
    "df = pd.read_csv('iris.csv', header = None)\n",
    "df.tail()\n",
    "\n",
    "IA = df.iloc[:,:].values\n",
    "for i_ in range(0,len(df),1):\n",
    "    print(i_, IA[i_,:])\n",
    "\n",
    "Cl = IA[:,4]\n",
    "Cl"
   ]
  },
  {
   "cell_type": "code",
   "execution_count": 12,
   "metadata": {
    "collapsed": false
   },
   "outputs": [
    {
     "name": "stdout",
     "output_type": "stream",
     "text": [
      "[1.0 1.1 1.2 1.3 1.4 1.5 1.6 1.7 1.9 3.3 3.5 3.6 3.7 3.8 3.9 4.0 4.1 4.2\n",
      " 4.3 4.4 4.5 4.6 4.7 4.8 4.9 5.0 5.1 5.3 5.5 5.6 5.7 5.8 5.9 6.0 6.1 6.3\n",
      " 6.4 6.6 6.7 6.9]\n"
     ]
    }
   ],
   "source": [
    "# get Iris classifications\n",
    "\n",
    "IC = np.unique(IA[:,4])\n",
    "print (IC)"
   ]
  },
  {
   "cell_type": "code",
   "execution_count": 13,
   "metadata": {
    "collapsed": false
   },
   "outputs": [
    {
     "name": "stdout",
     "output_type": "stream",
     "text": [
      "1.0 red o\n",
      "1.1 blue x\n",
      "1.2 green *\n"
     ]
    }
   ],
   "source": [
    "pltC = ('red', 'blue', 'green')\n",
    "pltM = ('o', 'x', '*')\n",
    "for i in range(0,3):\n",
    "    print(IC[i], pltC[i], pltM[i])\n",
    "          "
   ]
  },
  {
   "cell_type": "code",
   "execution_count": 14,
   "metadata": {
    "collapsed": false
   },
   "outputs": [
    {
     "name": "stdout",
     "output_type": "stream",
     "text": [
      "sepal length in cm\n",
      "sepal width in cm\n",
      "petal length in cm\n",
      "petal width in cm\n"
     ]
    }
   ],
   "source": [
    "# setup Iris feature lablels\n",
    "\n",
    "IrisF=(\"sepal length in cm\", \"sepal width in cm\", \"petal length in cm\", \"petal width in cm\")\n",
    "for i in range(0,4):\n",
    "    print(IrisF[i])\n"
   ]
  },
  {
   "cell_type": "code",
   "execution_count": 15,
   "metadata": {
    "collapsed": false,
    "scrolled": true
   },
   "outputs": [],
   "source": [
    "# plot classifications of all pairs of features \n",
    "\n",
    "plt.close('all')\n"
   ]
  },
  {
   "cell_type": "code",
   "execution_count": 16,
   "metadata": {
    "collapsed": true
   },
   "outputs": [],
   "source": [
    "# focus on classification of \"setosa\" and \"versicolor\", class indexes 0 and 1\n",
    "# set to 1 and -1 in class array\n",
    "cdx = np.array([0,1])   \n",
    "# focus on the features \"sepal length\" and \"petal length\", feature indexes 0 and 2\n",
    "fdx = np.array([0,2])"
   ]
  },
  {
   "cell_type": "code",
   "execution_count": 17,
   "metadata": {
    "collapsed": false
   },
   "outputs": [
    {
     "data": {
      "image/png": "[encoded data removed]",
      "text/plain": [
       "<matplotlib.figure.Figure at 0x113ebad68>"
      ]
     },
     "metadata": {},
     "output_type": "display_data"
    }
   ],
   "source": [
    "i = 0\n",
    "numCl = 0\n",
    "for i in range(0 , len(Cl)):\n",
    "    if Cl[i] == IC[cdx[0]]:\n",
    "        numCl += 1\n",
    "    if Cl[i] == IC[cdx[1]]:\n",
    "        numCl += 1    \n",
    "    i += 1  \n",
    "    \n",
    "NC = np.zeros((numCl))\n",
    "NF = np.zeros((numCl, 2))\n",
    "\n",
    "i = 0\n",
    "j = 0\n",
    "for i in range(0 , len(Cl)):\n",
    "    if Cl[i] == IC[cdx[0]]:\n",
    "        \n",
    "        NC[j] = 1\n",
    "        NF[j,0] = IA[i,fdx[0]]\n",
    "        NF[j,1] = IA[i,fdx[1]]\n",
    "        j += 1\n",
    "    if Cl[i] == IC[cdx[1]]:      \n",
    "        NC[j] = -1\n",
    "        NF[j,0] = IA[i,fdx[0]]\n",
    "        NF[j,1] = IA[i,fdx[1]]\n",
    "        j += 1\n",
    "    i += 1\n",
    "\n",
    "plt.close('all')\n",
    "plt.scatter(x = NF[NC == 1, 0], y = NF[NC == 1, 1], color=pltC[cdx[0]], \n",
    "            marker=pltM[cdx[0]], label=IC[cdx[0]])\n",
    "plt.scatter(x = NF[NC == -1, 0], y = NF[NC == -1, 1], color=pltC[cdx[1]], \n",
    "            marker=pltM[cdx[1]], label=IC[cdx[1]])\n",
    "plt.xlabel(IrisF[fdx[0]])\n",
    "plt.ylabel(IrisF[1])\n",
    "plt.legend(loc='lower right')\n",
    "plt.show()"
   ]
  },
  {
   "cell_type": "code",
   "execution_count": 18,
   "metadata": {
    "collapsed": true
   },
   "outputs": [],
   "source": [
    "class AdalineGD(object):\n",
    "    \"\"\"ADAptive LInear NEuron classifier.\n",
    "\n",
    "    Code from \"Python Machine Learning,\" Sebastian Raschka, Packt Publishing, 2015,\n",
    "    with modifications.\n",
    "\n",
    "    Parameters\n",
    "    ------------\n",
    "    eta : float\n",
    "        Learning rate (between 0.0 and 1.0)\n",
    "    n_iter : int\n",
    "        Passes over the training dataset.\n",
    "\n",
    "    Attributes\n",
    "    -----------\n",
    "    w_ : 1d-array\n",
    "        Weights after fitting.\n",
    "    errors_ : list\n",
    "        Number of misclassifications in every epoch.\n",
    "\n",
    "    \"\"\"\n",
    "    def __init__(self, eta=0.01, n_iter=50):\n",
    "        self.eta = eta\n",
    "        self.n_iter = n_iter\n",
    "\n",
    "    def fit(self, X, y):\n",
    "        \"\"\" Fit training data.\n",
    "\n",
    "        Parameters\n",
    "        ----------\n",
    "        X : {array-like}, shape = [n_samples, n_features]\n",
    "            Training vectors, where n_samples is the number of samples and\n",
    "            n_features is the number of features.\n",
    "        y : array-like, shape = [n_samples]\n",
    "            Target values.\n",
    "\n",
    "        Returns\n",
    "        -------\n",
    "        self : object\n",
    "\n",
    "        \"\"\"\n",
    "        self.w_ = np.zeros(1 + X.shape[1])\n",
    "        self.cost_ = []\n",
    "\n",
    "        for i in range(self.n_iter):\n",
    "            output = self.net_input(X)\n",
    "            errors = (y - output)\n",
    "            self.w_[1:] += self.eta * X.T.dot(errors)\n",
    "            self.w_[0] += self.eta * errors.sum()\n",
    "            cost = (errors**2).sum() / 2.0\n",
    "            self.cost_.append(cost)\n",
    "        return self\n",
    "\n",
    "    def net_input(self, X):\n",
    "        \"\"\" Calculate net input \"\"\"\n",
    "        return (np.dot(X, self.w_[1:]) + self.w_[0])\n",
    "\n",
    "    def activation(self, X):\n",
    "        \"\"\" Compute linear activation \"\"\"\n",
    "        return self.net_input(X)\n",
    "\n",
    "    def predict(self, X):\n",
    "        \"\"\" Return class label after unit step \"\"\"\n",
    "        return np.where(self.activation(X) >= 0.0, 1, -1) \n",
    "    \n",
    "    def accuracy(self, X, y):\n",
    "        \"\"\" Return accuracy of the model \"\"\"\n",
    "        return (1.0 - abs(y - self.predict(X)).sum() / (2.0 * y.size))\n",
    "        "
   ]
  },
  {
   "cell_type": "code",
   "execution_count": 19,
   "metadata": {
    "collapsed": true
   },
   "outputs": [],
   "source": [
    "# focus on classification of \"setosa\" and \"versicolor\", class indexes 0 and 1; \n",
    "# set to 1 and -1 in class array\n",
    "cdx = np.array([0,1])   \n",
    "# focus on the features \"sepal length\" and \"petal length\", feature indexes 0 and 2\n",
    "fdx = np.array([0,2])"
   ]
  },
  {
   "cell_type": "code",
   "execution_count": 20,
   "metadata": {
    "collapsed": false,
    "scrolled": true
   },
   "outputs": [],
   "source": [
    "i = 0\n",
    "numCl = 0\n",
    "for i in range(0 , len(Cl)):\n",
    "    if Cl[i] == IC[cdx[0]]:\n",
    "        numCl += 1\n",
    "    if Cl[i] == IC[cdx[1]]:\n",
    "        numCl += 1    \n",
    "    i += 1  \n",
    "    \n",
    "NC = np.zeros((numCl))\n",
    "NF = np.zeros((numCl, 2))\n",
    "\n",
    "i = 0\n",
    "j = 0\n",
    "for i in range(0 , len(Cl)):\n",
    "    if Cl[i] == IC[cdx[0]]:        \n",
    "        NC[j] = 1\n",
    "        NF[j,0] = IA[i,fdx[0]]\n",
    "        NF[j,1] = IA[i,fdx[1]]\n",
    "        j += 1\n",
    "    if Cl[i] == IC[cdx[1]]:      \n",
    "        NC[j] = -1\n",
    "        NF[j,0] = IA[i,fdx[0]]\n",
    "        NF[j,1] = IA[i,fdx[1]]\n",
    "        j += 1\n",
    "    i += 1"
   ]
  },
  {
   "cell_type": "code",
   "execution_count": 21,
   "metadata": {
    "collapsed": false
   },
   "outputs": [
    {
     "data": {
      "image/png": "[encoded data removed]",
      "text/plain": [
       "<matplotlib.figure.Figure at 0x113fd34e0>"
      ]
     },
     "metadata": {},
     "output_type": "display_data"
    }
   ],
   "source": [
    "plt.close('all')\n",
    "fig, ax = plt.subplots(nrows=1, ncols=1, figsize = (4,4))\n",
    "ada = AdalineGD(n_iter=10, eta=0.1).fit(NF, NC)\n",
    "ax.semilogy(range(1, len(ada.cost_) + 1), ada.cost_, marker = 'o')\n",
    "ax.set_xlabel('Epoch')\n",
    "ax.set_ylabel('Sum-squared-error')\n",
    "ax.set_title('Adaline: eta = 0.1', fontsize ='medium')\n",
    "plt.show()"
   ]
  },
  {
   "cell_type": "code",
   "execution_count": 22,
   "metadata": {
    "collapsed": false,
    "scrolled": true
   },
   "outputs": [
    {
     "data": {
      "image/png": "[encoded data removed]",
      "text/plain": [
       "<matplotlib.figure.Figure at 0x116772710>"
      ]
     },
     "metadata": {},
     "output_type": "display_data"
    }
   ],
   "source": [
    "plt.close('all')\n",
    "fig, ax = plt.subplots(nrows=1, ncols=1, figsize = (4,4))\n",
    "ada = AdalineGD(n_iter=10, eta=0.01).fit(NF, NC)\n",
    "ax.semilogy(range(1, len(ada.cost_) + 1), ada.cost_, marker = 'o')\n",
    "ax.set_xlabel('Epoch')\n",
    "ax.set_ylabel('Sum-squared-error')\n",
    "ax.set_title('Adaline: eta = 0.01', fontsize ='medium')\n",
    "plt.show()"
   ]
  },
  {
   "cell_type": "code",
   "execution_count": 23,
   "metadata": {
    "collapsed": false
   },
   "outputs": [
    {
     "data": {
      "image/png": "[encoded data removed]",
      "text/plain": [
       "<matplotlib.figure.Figure at 0x11696d710>"
      ]
     },
     "metadata": {},
     "output_type": "display_data"
    }
   ],
   "source": [
    "plt.close('all')\n",
    "fig, ax = plt.subplots(nrows=1, ncols=1, figsize = (4,4))\n",
    "ada = AdalineGD(n_iter=10, eta=0.001).fit(NF, NC)\n",
    "ax.semilogy(range(1, len(ada.cost_) + 1), ada.cost_, marker = 'o')\n",
    "ax.set_xlabel('Epoch')\n",
    "ax.set_ylabel('Sum-squared-error')\n",
    "ax.set_title('Adaline: eta = 0.001', fontsize ='medium')\n",
    "plt.show()"
   ]
  },
  {
   "cell_type": "code",
   "execution_count": 24,
   "metadata": {
    "collapsed": false
   },
   "outputs": [
    {
     "data": {
      "image/png": "[encoded data removed]",
      "text/plain": [
       "<matplotlib.figure.Figure at 0x1166308d0>"
      ]
     },
     "metadata": {},
     "output_type": "display_data"
    }
   ],
   "source": [
    "plt.close('all')\n",
    "fig, ax = plt.subplots(nrows=1, ncols=1, figsize = (4,4))\n",
    "ada = AdalineGD(n_iter=10, eta=0.0001).fit(NF, NC)\n",
    "ax.semilogy(range(1, len(ada.cost_) + 1), ada.cost_, marker = 'o')\n",
    "ax.set_xlabel('Epoch')\n",
    "ax.set_ylabel('Sum-squared-error')\n",
    "ax.set_title('Adaline: eta = 0.0001', fontsize ='medium')\n",
    "plt.show()"
   ]
  },
  {
   "cell_type": "code",
   "execution_count": 25,
   "metadata": {
    "collapsed": true
   },
   "outputs": [],
   "source": [
    "# Standardize Inputs\n",
    "\n",
    "NF_Std = np.copy(NF)\n",
    "NF_Std[:,0] = (NF[:,0] - NF[:,0].mean()) / NF[:,0].std()\n",
    "NF_Std[:,1] = (NF[:,1] - NF[:,1].mean()) / NF[:,1].std()"
   ]
  },
  {
   "cell_type": "code",
   "execution_count": 26,
   "metadata": {
    "collapsed": false
   },
   "outputs": [
    {
     "data": {
      "image/png": "[encoded data removed]",
      "text/plain": [
       "<matplotlib.figure.Figure at 0x1169f6cc0>"
      ]
     },
     "metadata": {},
     "output_type": "display_data"
    }
   ],
   "source": [
    "plt.close('all')\n",
    "fig, ax = plt.subplots(nrows=1, ncols=2, figsize = (8,4))\n",
    "\n",
    "ada = AdalineGD(n_iter=50, eta=0.003)\n",
    "ada.fit(NF_Std, NC)\n",
    "ax[0].plot(range(1, len(ada.cost_) + 1), ada.cost_)\n",
    "ax[0].set_xlabel('Epoch')\n",
    "ax[0].set_ylabel('Sum-squared-error')\n",
    "ax[0].set_title('Adaline: eta = 0.003', fontsize='medium')\n",
    "ax[1].semilogy(range(1, len(ada.cost_) + 1), ada.cost_)\n",
    "ax[1].set_xlabel('Epoch')\n",
    "ax[1].set_ylabel('Sum-squared-error')\n",
    "ax[1].set_title('Adaline: eta = 0.003', fontsize='medium')\n",
    "plt.show()"
   ]
  },
  {
   "cell_type": "code",
   "execution_count": 29,
   "metadata": {
    "collapsed": false
   },
   "outputs": [
    {
     "ename": "IndexError",
     "evalue": "index 2 is out of bounds for axis 0 with size 2",
     "output_type": "error",
     "traceback": [
      "\u001b[0;31m---------------------------------------------------------------------------\u001b[0m",
      "\u001b[0;31mIndexError\u001b[0m                                Traceback (most recent call last)",
      "\u001b[0;32m<ipython-input-29-090fa1d8b61f>\u001b[0m in \u001b[0;36m<module>\u001b[0;34m()\u001b[0m\n\u001b[1;32m     23\u001b[0m                     marker=pltM[cdx[idx]], label=IC[cdx[idx]])\n\u001b[1;32m     24\u001b[0m \u001b[0;34m\u001b[0m\u001b[0m\n\u001b[0;32m---> 25\u001b[0;31m \u001b[0mplot_decision_regions\u001b[0m\u001b[0;34m(\u001b[0m\u001b[0mNF_Std\u001b[0m\u001b[0;34m,\u001b[0m \u001b[0mNC\u001b[0m\u001b[0;34m,\u001b[0m \u001b[0mclassifier\u001b[0m \u001b[0;34m=\u001b[0m \u001b[0mada\u001b[0m\u001b[0;34m)\u001b[0m\u001b[0;34m\u001b[0m\u001b[0m\n\u001b[0m\u001b[1;32m     26\u001b[0m \u001b[0mplt\u001b[0m\u001b[0;34m.\u001b[0m\u001b[0mtitle\u001b[0m\u001b[0;34m(\u001b[0m\u001b[0;34m'Adaline - Gradient Descent'\u001b[0m\u001b[0;34m,\u001b[0m \u001b[0mfontsize\u001b[0m\u001b[0;34m=\u001b[0m\u001b[0;34m'medium'\u001b[0m\u001b[0;34m)\u001b[0m\u001b[0;34m\u001b[0m\u001b[0m\n\u001b[1;32m     27\u001b[0m \u001b[0mplt\u001b[0m\u001b[0;34m.\u001b[0m\u001b[0mxlabel\u001b[0m\u001b[0;34m(\u001b[0m\u001b[0;34m'sepal length [standardized]'\u001b[0m\u001b[0;34m)\u001b[0m\u001b[0;34m\u001b[0m\u001b[0m\n",
      "\u001b[0;32m<ipython-input-29-090fa1d8b61f>\u001b[0m in \u001b[0;36mplot_decision_regions\u001b[0;34m(X, y, classifier, resolution)\u001b[0m\n\u001b[1;32m     20\u001b[0m     \u001b[0;32mfor\u001b[0m \u001b[0midx\u001b[0m\u001b[0;34m,\u001b[0m \u001b[0mcl\u001b[0m \u001b[0;32min\u001b[0m \u001b[0menumerate\u001b[0m\u001b[0;34m(\u001b[0m\u001b[0mnp\u001b[0m\u001b[0;34m.\u001b[0m\u001b[0munique\u001b[0m\u001b[0;34m(\u001b[0m\u001b[0mNF\u001b[0m\u001b[0;34m)\u001b[0m\u001b[0;34m)\u001b[0m\u001b[0;34m:\u001b[0m\u001b[0;34m\u001b[0m\u001b[0m\n\u001b[1;32m     21\u001b[0m         plt.scatter(x=X[y == cl, 0], y=X[y == cl, 1],\n\u001b[0;32m---> 22\u001b[0;31m                     \u001b[0malpha\u001b[0m\u001b[0;34m=\u001b[0m\u001b[0;36m0.8\u001b[0m\u001b[0;34m,\u001b[0m \u001b[0mcolor\u001b[0m\u001b[0;34m=\u001b[0m\u001b[0mpltC\u001b[0m\u001b[0;34m[\u001b[0m\u001b[0mcdx\u001b[0m\u001b[0;34m[\u001b[0m\u001b[0midx\u001b[0m\u001b[0;34m]\u001b[0m\u001b[0;34m]\u001b[0m\u001b[0;34m,\u001b[0m\u001b[0;34m\u001b[0m\u001b[0m\n\u001b[0m\u001b[1;32m     23\u001b[0m                     marker=pltM[cdx[idx]], label=IC[cdx[idx]])\n\u001b[1;32m     24\u001b[0m \u001b[0;34m\u001b[0m\u001b[0m\n",
      "\u001b[0;31mIndexError\u001b[0m: index 2 is out of bounds for axis 0 with size 2"
     ]
    }
   ],
   "source": [
    "from matplotlib.colors import ListedColormap\n",
    "def plot_decision_regions(X, y, classifier, resolution=0.01):\n",
    "\n",
    "    # setup color map\n",
    "    colors = ('red', 'blue')\n",
    "    cmap = ListedColormap(colors[:len(np.unique(y))])\n",
    "\n",
    "    # plot the decision surface\n",
    "    x1_min, x1_max = X[:, 0].min() - 1, X[:, 0].max() + 1\n",
    "    x2_min, x2_max = X[:, 1].min() - 1, X[:, 1].max() + 1\n",
    "    xx1, xx2 = np.meshgrid(np.arange(x1_min, x1_max, resolution),\n",
    "                         np.arange(x2_min, x2_max, resolution))\n",
    "    Z = classifier.predict(np.array([xx1.ravel(), xx2.ravel()]).T)\n",
    "    Z = Z.reshape(xx1.shape)\n",
    "    plt.contourf(xx1, xx2, Z, alpha=0.2, cmap=cmap)\n",
    "    plt.xlim(xx1.min(), xx1.max())\n",
    "    plt.ylim(xx2.min(), xx2.max())\n",
    "\n",
    "    # plot class samples\n",
    "    for idx, cl in enumerate(np.unique(NC)):\n",
    "        plt.scatter(x=X[y == cl, 0], y=X[y == cl, 1],\n",
    "                    alpha=0.8, color=pltC[cdx[idx]],\n",
    "                    marker=pltM[cdx[idx]], label=IC[cdx[idx]])\n",
    "\n",
    "plot_decision_regions(NF_Std, NC, classifier = ada)\n",
    "plt.title('Adaline - Gradient Descent', fontsize='medium')\n",
    "plt.xlabel('sepal length [standardized]')\n",
    "plt.ylabel('petal length [standardized]')\n",
    "plt.legend(loc='upper left', fontsize='small')\n",
    "plt.show()\n",
    "np.unique(NC)"
   ]
  },
  {
   "cell_type": "code",
   "execution_count": null,
   "metadata": {
    "collapsed": false
   },
   "outputs": [],
   "source": [
    "print(ada.accuracy(NF_Std, NC))"
   ]
  },
  {
   "cell_type": "code",
   "execution_count": null,
   "metadata": {
    "collapsed": true
   },
   "outputs": [],
   "source": [
    "# Now we'll try it with classes that are not linearly separable"
   ]
  },
  {
   "cell_type": "code",
   "execution_count": null,
   "metadata": {
    "collapsed": true
   },
   "outputs": [],
   "source": [
    "# focus on classification of \"versicolor\" and \"verginica\", class indexes 1 and 2\n",
    "# set to 1 and -1 in class array\n",
    "cdx = np.array([1,2])   \n",
    "# focus on the features \"sepal length\" and \"petal length\", feature indexes 0 and 2\n",
    "fdx = np.array([0,2])"
   ]
  },
  {
   "cell_type": "code",
   "execution_count": null,
   "metadata": {
    "collapsed": true,
    "scrolled": true
   },
   "outputs": [],
   "source": [
    "i = 0\n",
    "numCl = 0\n",
    "for i in range(0 , len(Cl)):\n",
    "    if Cl[i] == IC[cdx[0]]:\n",
    "        numCl += 1\n",
    "    if Cl[i] == IC[cdx[1]]:\n",
    "        numCl += 1    \n",
    "    i += 1  \n",
    "    \n",
    "NC = np.zeros((numCl))\n",
    "NF = np.zeros((numCl, 2))\n",
    "\n",
    "i = 0\n",
    "j = 0\n",
    "for i in range(0 , len(Cl)):\n",
    "    if Cl[i] == IC[cdx[0]]:        \n",
    "        NC[j] = 1\n",
    "        NF[j,0] = IA[i,fdx[0]]\n",
    "        NF[j,1] = IA[i,fdx[1]]\n",
    "        j += 1\n",
    "    if Cl[i] == IC[cdx[1]]:      \n",
    "        NC[j] = -1\n",
    "        NF[j,0] = IA[i,fdx[0]]\n",
    "        NF[j,1] = IA[i,fdx[1]]\n",
    "        j += 1\n",
    "    i += 1"
   ]
  },
  {
   "cell_type": "code",
   "execution_count": null,
   "metadata": {
    "collapsed": false
   },
   "outputs": [],
   "source": [
    "plt.close('all')\n",
    "fig, ax = plt.subplots(nrows=1, ncols=1, figsize = (4,4))\n",
    "ada = AdalineGD(n_iter=10, eta=0.1).fit(NF, NC)\n",
    "ax.semilogy(range(1, len(ada.cost_) + 1), ada.cost_, marker = 'o')\n",
    "ax.set_xlabel('Epoch')\n",
    "ax.set_ylabel('log(Sum-squared-error)')\n",
    "ax.set_title('Adaline: eta = 0.1', fontsize ='medium')\n",
    "plt.show()"
   ]
  },
  {
   "cell_type": "code",
   "execution_count": null,
   "metadata": {
    "collapsed": false
   },
   "outputs": [],
   "source": [
    "plt.close('all')\n",
    "fig, ax = plt.subplots(nrows=1, ncols=1, figsize = (4,4))\n",
    "ada = AdalineGD(n_iter=10, eta=0.01).fit(NF, NC)\n",
    "ax.semilogy(range(1, len(ada.cost_) + 1), ada.cost_, marker = 'o')\n",
    "ax.set_xlabel('Epoch')\n",
    "ax.set_ylabel('Sum-squared-error')\n",
    "ax.set_title('Adaline: eta = 0.01', fontsize ='medium')\n",
    "plt.show()"
   ]
  },
  {
   "cell_type": "code",
   "execution_count": null,
   "metadata": {
    "collapsed": false,
    "scrolled": true
   },
   "outputs": [],
   "source": [
    "plt.close('all')\n",
    "fig, ax = plt.subplots(nrows=1, ncols=1, figsize = (4,4))\n",
    "ada = AdalineGD(n_iter=10, eta=0.001).fit(NF, NC)\n",
    "ax.semilogy(range(1, len(ada.cost_) + 1), ada.cost_, marker = 'o')\n",
    "ax.set_xlabel('Epoch')\n",
    "ax.set_ylabel('Sum-squared-error')\n",
    "ax.set_title('Adaline: eta = 0.001', fontsize ='medium')\n",
    "plt.show()"
   ]
  },
  {
   "cell_type": "code",
   "execution_count": null,
   "metadata": {
    "collapsed": false
   },
   "outputs": [],
   "source": [
    "plt.close('all')\n",
    "fig, ax = plt.subplots(nrows=1, ncols=1, figsize = (4,4))\n",
    "ada = AdalineGD(n_iter=10, eta=0.0001).fit(NF, NC)\n",
    "ax.semilogy(range(1, len(ada.cost_) + 1), ada.cost_, marker = 'o')\n",
    "ax.set_xlabel('Epoch')\n",
    "ax.set_ylabel('Sum-squared-error')\n",
    "ax.set_title('Adaline: eta = 0.0001', fontsize ='medium')\n",
    "plt.show()"
   ]
  },
  {
   "cell_type": "code",
   "execution_count": null,
   "metadata": {
    "collapsed": true
   },
   "outputs": [],
   "source": [
    "# Standardize Inputs\n",
    "\n",
    "NF_Std = np.copy(NF)\n",
    "NF_Std[:,0] = (NF[:,0] - NF[:,0].mean()) / NF[:,0].std()\n",
    "NF_Std[:,1] = (NF[:,1] - NF[:,1].mean()) / NF[:,1].std()"
   ]
  },
  {
   "cell_type": "code",
   "execution_count": null,
   "metadata": {
    "collapsed": false
   },
   "outputs": [],
   "source": [
    "plt.close('all')\n",
    "fig, ax = plt.subplots(nrows=1, ncols=2, figsize = (8,4))\n",
    "\n",
    "ada = AdalineGD(n_iter=50, eta=0.003)\n",
    "ada.fit(NF_Std, NC)\n",
    "ax[0].plot(range(1, len(ada.cost_) + 1), ada.cost_)\n",
    "ax[0].set_xlabel('Epoch')\n",
    "ax[0].set_ylabel('Sum-squared-error')\n",
    "ax[0].set_title('Adaline: eta = 0.003', fontsize='medium')\n",
    "ax[1].semilogy(range(1, len(ada.cost_) + 1), ada.cost_)\n",
    "ax[1].set_xlabel('Epoch')\n",
    "ax[1].set_ylabel('Sum-squared-error')\n",
    "ax[1].set_title('Adaline: eta = 0.003', fontsize='medium')\n",
    "plt.show()"
   ]
  },
  {
   "cell_type": "code",
   "execution_count": null,
   "metadata": {
    "collapsed": true
   },
   "outputs": [],
   "source": [
    "from matplotlib.colors import ListedColormap\n",
    "def plot_decision_regions(X, y, classifier, resolution=0.01):\n",
    "\n",
    "    # setup marker generator and color map\n",
    "    colors = ('blue', 'green')\n",
    "    cmap = ListedColormap(colors[:len(np.unique(y))])\n",
    "\n",
    "    # plot the decision surface\n",
    "    x1_min, x1_max = X[:, 0].min() - 1, X[:, 0].max() + 1\n",
    "    x2_min, x2_max = X[:, 1].min() - 1, X[:, 1].max() + 1\n",
    "    xx1, xx2 = np.meshgrid(np.arange(x1_min, x1_max, resolution),\n",
    "                         np.arange(x2_min, x2_max, resolution))\n",
    "    Z = classifier.predict(np.array([xx1.ravel(), xx2.ravel()]).T)\n",
    "    Z = Z.reshape(xx1.shape)\n",
    "    plt.contourf(xx1, xx2, Z, alpha=0.2, cmap=cmap)\n",
    "    plt.xlim(xx1.min(), xx1.max())\n",
    "    plt.ylim(xx2.min(), xx2.max())\n",
    "\n",
    "    # plot class samples\n",
    "    for idx, cl in enumerate(np.unique(y)):\n",
    "        plt.scatter(x=X[y == cl, 0], y=X[y == cl, 1],\n",
    "                    alpha=0.8, color=pltC[cdx[idx]],\n",
    "                    marker=pltM[cdx[idx]], label=IC[cdx[idx]])"
   ]
  },
  {
   "cell_type": "code",
   "execution_count": null,
   "metadata": {
    "collapsed": false
   },
   "outputs": [],
   "source": [
    "plot_decision_regions(NF_Std, NC, classifier = ada)\n",
    "plt.title('Adaline - Gradient Descent', fontsize='medium')\n",
    "plt.xlabel('sepal length [standardized]')\n",
    "plt.ylabel('petal length [standardized]')\n",
    "plt.legend(loc='upper left', fontsize='small')\n",
    "plt.show()"
   ]
  },
  {
   "cell_type": "code",
   "execution_count": null,
   "metadata": {
    "collapsed": false
   },
   "outputs": [],
   "source": [
    "print(ada.accuracy(NF_Std, NC))"
   ]
  },
  {
   "cell_type": "code",
   "execution_count": null,
   "metadata": {
    "collapsed": true
   },
   "outputs": [],
   "source": []
  }
 ],
 "metadata": {
  "anaconda-cloud": {},
  "kernelspec": {
   "display_name": "Python 3",
   "language": "python",
   "name": "python3"
  },
  "language_info": {
   "codemirror_mode": {
    "name": "ipython",
    "version": 3
   },
   "file_extension": ".py",
   "mimetype": "text/x-python",
   "name": "python",
   "nbconvert_exporter": "python",
   "pygments_lexer": "ipython3",
   "version": "3.6.0"
  }
 },
 "nbformat": 4,
 "nbformat_minor": 1
}
